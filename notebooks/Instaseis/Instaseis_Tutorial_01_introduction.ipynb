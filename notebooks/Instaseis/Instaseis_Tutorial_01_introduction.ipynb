{
 "cells": [
  {
   "cell_type": "markdown",
   "metadata": {},
   "source": [
    "<div style=\"background-image:url(instaseis_images/meschede-seismic-waves.png); padding: 10px 30px 20px 30px; background-size:cover; background-opacity:50%; border-radius:5px; background-position: 0px -200px\">\n",
    "<p style=\"float:right; margin-top:20px; padding: 20px 60px 0px 10px; background:rgba(255,255,255,0.75); border-radius:10px;\">\n",
    "<img width=\"400px\" src=instaseis_images/logo.png>\n",
    "</p>\n",
    "\n",
    "<h1 style=\"color:#BBB; padding-bottom: 10px\">Instaseis Tutorial</h1>\n",
    "<h2 style=\"color:#BBB; padding-bottom: 60px\">Part 1: Introduction</h2>\n",
    "\n",
    "</div>"
   ]
  },
  {
   "cell_type": "markdown",
   "metadata": {},
   "source": [
    "**Goal:** calculate seismograms on a 1D background model with [Instaseis](http://www.instaseis.net), assuming the \n",
    "Green's function database computed with [AxiSEM](http://www.axisem.info) is provided."
   ]
  },
  {
   "cell_type": "markdown",
   "metadata": {},
   "source": [
    "### Overview:\n",
    "\n",
    "**Introduction:**\n",
    "\n",
    "* Part 1: Very basic introduction to the API, calculate the first seismogram.\n",
    "\n",
    "**Basic Tasks:**\n",
    "\n",
    "* Part 2: Some examples of interaction with obspy, calculate synthetics for a set of events and stations\n",
    "\n",
    "**Advanced Tasks:**\n",
    "\n",
    "* Part 3: Plot record section\n",
    "* Part 4: Finite Source, compare to point source solution"
   ]
  },
  {
   "cell_type": "markdown",
   "metadata": {},
   "source": [
    "-----\n",
    "\n",
    "Basic lines to set up the notebook and some paths."
   ]
  },
  {
   "cell_type": "code",
   "execution_count": null,
   "metadata": {
    "collapsed": false
   },
   "outputs": [],
   "source": [
    "%matplotlib inline\n",
    "from __future__ import print_function\n",
    "import matplotlib.pyplot as plt\n",
    "import numpy as np\n",
    "import os\n",
    "import obspy\n",
    "plt.style.use('ggplot')\n",
    "plt.rcParams['figure.figsize'] = (10, 8)"
   ]
  },
  {
   "cell_type": "markdown",
   "metadata": {},
   "source": [
    "-----"
   ]
  },
  {
   "cell_type": "markdown",
   "metadata": {},
   "source": [
    "## Basic Instaseis API Introduction\n",
    "\n",
    "Please also have a look at our webpage - http://www.instaseis.net/ - where everything is documented extensively.\n",
    "\n",
    "### Opening a Database\n",
    "\n",
    "To get going you have to import the package `instaseis`."
   ]
  },
  {
   "cell_type": "code",
   "execution_count": null,
   "metadata": {
    "collapsed": false
   },
   "outputs": [],
   "source": [
    "import instaseis"
   ]
  },
  {
   "cell_type": "markdown",
   "metadata": {},
   "source": [
    "An Instaseis database must be opened before it can be used. Please keep in mind that this is by far the most expensive operation in Instaseis so you want to limit how often you do it. There are a couple of optional parameters here, for most applications the defaults might be fine.\n",
    "\n",
    "The database for this turorial is located at **./data/database**"
   ]
  },
  {
   "cell_type": "code",
   "execution_count": null,
   "metadata": {
    "collapsed": false
   },
   "outputs": [],
   "source": [
    "db = instaseis.open_db(\"data/database\")"
   ]
  },
  {
   "cell_type": "markdown",
   "metadata": {},
   "source": [
    "Some basic information about the loaded database can be reviewed by just printing it."
   ]
  },
  {
   "cell_type": "code",
   "execution_count": null,
   "metadata": {
    "collapsed": false
   },
   "outputs": [],
   "source": [
    "print(db)"
   ]
  },
  {
   "cell_type": "markdown",
   "metadata": {},
   "source": [
    "From this you can already glance a couple of aspects of the database used for this tutorial:\n",
    "\n",
    "* uses ak135f as its 1D model\n",
    "* is accurate for periods down to 20 seconds\n",
    "* includes vertical and horizontal components\n",
    "* sources can have depths ranging from 0 to 150 km\n",
    "* one hour long seismograms"
   ]
  },
  {
   "cell_type": "markdown",
   "metadata": {},
   "source": [
    "### Receivers and Sources\n",
    "\n",
    "Instaseis calculates seismograms for any source and receiver pair. A receiver has coordinates and optionally network and station codes. Using a reciprocal database, all receivers are assumed to be at the same depth, i.e. usually at the Earth surface."
   ]
  },
  {
   "cell_type": "code",
   "execution_count": null,
   "metadata": {
    "collapsed": false
   },
   "outputs": [],
   "source": [
    "rec = instaseis.Receiver(latitude=44.06238, longitude=10.59698,\n",
    "                         network=\"IV\", station=\"BDI\")\n",
    "print(rec)"
   ]
  },
  {
   "cell_type": "markdown",
   "metadata": {},
   "source": [
    "Sources are naturally a bit more complex and Instaseis offers a variety of ways to define them. A straightforward way for earthquakes is to pass coordinates, moment as well as strike, dip and rake."
   ]
  },
  {
   "cell_type": "code",
   "execution_count": null,
   "metadata": {
    "collapsed": false
   },
   "outputs": [],
   "source": [
    "src = instaseis.Source.from_strike_dip_rake(\n",
    "    latitude=27.77, longitude=85.37, depth_in_m=12000.0,\n",
    "    M0=1e+21, strike=32., dip=62., rake=90.)\n",
    "print(src)"
   ]
  },
  {
   "cell_type": "markdown",
   "metadata": {},
   "source": [
    "**Sidenode:** The moment tensor can be visualized using the Beachball function from obspy.imaging:"
   ]
  },
  {
   "cell_type": "code",
   "execution_count": null,
   "metadata": {
    "collapsed": false,
    "scrolled": true
   },
   "outputs": [],
   "source": [
    "from obspy.imaging.beachball import Beachball\n",
    "\n",
    "mt = src.tensor / src.M0 # normalize the tensor to avoid problems in the plotting\n",
    "Beachball(mt, size=200, linewidth=2, facecolor='b');"
   ]
  },
  {
   "cell_type": "markdown",
   "metadata": {},
   "source": [
    "Now we are ready to extract synthetic seismograms from the database. The return type is an [obspy stream object](https://docs.obspy.org/packages/autogen/obspy.core.stream.Stream.html), which can directly be plotted:"
   ]
  },
  {
   "cell_type": "code",
   "execution_count": null,
   "metadata": {
    "collapsed": false
   },
   "outputs": [],
   "source": [
    "st = db.get_seismograms(source=src, receiver=rec)\n",
    "print(st)\n",
    "st.plot();"
   ]
  },
  {
   "cell_type": "markdown",
   "metadata": {},
   "source": [
    "**Done** This is all you need for a basic usage of Instaseis!"
   ]
  },
  {
   "cell_type": "markdown",
   "metadata": {},
   "source": [
    "## Outlook: syngine\n",
    "\n",
    "We are currently working with IRIS on providing instaseis synthetics on the web ([syngine](http://ds.iris.edu/ds/products/syngine/)), it is currently in alpha testing stage. Very soon it will be possible to open a remote database hosted by Iris as:"
   ]
  },
  {
   "cell_type": "code",
   "execution_count": null,
   "metadata": {
    "collapsed": false
   },
   "outputs": [],
   "source": [
    "db = instaseis.open_db(\"syngine://ak135f\")\n",
    "print(db)"
   ]
  }
 ],
 "metadata": {
  "kernelspec": {
   "display_name": "Python 3",
   "language": "python",
   "name": "python3"
  },
  "language_info": {
   "codemirror_mode": {
    "name": "ipython",
    "version": 3
   },
   "file_extension": ".py",
   "mimetype": "text/x-python",
   "name": "python",
   "nbconvert_exporter": "python",
   "pygments_lexer": "ipython3",
   "version": "3.4.3"
  }
 },
 "nbformat": 4,
 "nbformat_minor": 0
}
