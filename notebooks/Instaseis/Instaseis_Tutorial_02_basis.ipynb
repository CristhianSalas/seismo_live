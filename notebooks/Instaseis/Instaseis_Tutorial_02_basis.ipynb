{
 "cells": [
  {
   "cell_type": "markdown",
   "metadata": {},
   "source": [
    "<div style=\"background-image:url(instaseis_images/meschede-seismic-waves.png); padding: 10px 30px 20px 30px; background-size:cover; background-opacity:50%; border-radius:5px; background-position: 0px -200px\">\n",
    "<p style=\"float:right; margin-top:20px; padding: 20px 60px 0px 10px; background:rgba(255,255,255,0.75); border-radius:10px;\">\n",
    "<img width=\"400px\" src=instaseis_images/logo.png>\n",
    "</p>\n",
    "\n",
    "<h1 style=\"color:#BBB; padding-bottom: 10px\">Instaseis Tutorial</h1>\n",
    "<h2 style=\"color:#BBB; padding-bottom: 60px\">Part 2: First Basic Exercise</h2>\n",
    "\n",
    "</div>"
   ]
  },
  {
   "cell_type": "markdown",
   "metadata": {},
   "source": [
    "## First Basic Exercise\n",
    "\n",
    "**Task:** Calculate three component synthetic seismograms for the stations and events in the **data/events** and **data/stations** subdirectories and save them on disc."
   ]
  },
  {
   "cell_type": "markdown",
   "metadata": {},
   "source": [
    "#### Notes\n",
    "\n",
    "1. Receiver objects can also be created from StationXML, SEED, or STATIONS files as well as obpy inventories using `instaseis.Receiver.parse()`; see the [documentation](http://www.instaseis.net/source.html#receiver) for details.\n",
    "2. Source objects can also be created from QuakeML, CMTSOLUTIONS, and in other ways using `instaseis.Source.parse()`; see the [documentation](http://www.instaseis.net/source.html#source) for details.\n",
    "3. The `get_seismograms()` method has a couple of extra arguments:\n",
    "  * `kind`: `displacement`, `velocity`, `acceleration`\n",
    "  * `remove_source_shift`, `reconvolve_stf`, `dt`,\n",
    "  \n",
    "  ... see the [documentation](http://www.instaseis.net/instaseis.html#instaseis.base_instaseis_db.BaseInstaseisDB.get_seismograms) for details.\n",
    "4. You can use the properties of the Receiver and Source objects to create usefull filenames."
   ]
  },
  {
   "cell_type": "markdown",
   "metadata": {},
   "source": [
    "-----\n",
    "\n",
    "Basic lines to set up the notebook and some paths."
   ]
  },
  {
   "cell_type": "code",
   "execution_count": null,
   "metadata": {
    "collapsed": false
   },
   "outputs": [],
   "source": [
    "%matplotlib inline\n",
    "from __future__ import print_function\n",
    "import matplotlib.pyplot as plt\n",
    "import numpy as np\n",
    "import os\n",
    "import obspy\n",
    "plt.style.use('ggplot')\n",
    "plt.rcParams['figure.figsize'] = (10, 8)"
   ]
  },
  {
   "cell_type": "markdown",
   "metadata": {},
   "source": [
    "Import Instaseis and open the database:"
   ]
  },
  {
   "cell_type": "code",
   "execution_count": null,
   "metadata": {
    "collapsed": true
   },
   "outputs": [],
   "source": [
    "import instaseis\n",
    "db = instaseis.open_db(\"data/database\")"
   ]
  },
  {
   "cell_type": "markdown",
   "metadata": {},
   "source": [
    "-----"
   ]
  },
  {
   "cell_type": "markdown",
   "metadata": {},
   "source": [
    "### 1. Load Receivers\n",
    "\n",
    "**reminder:** you can use ObsPy to load stations and plot a map:"
   ]
  },
  {
   "cell_type": "code",
   "execution_count": null,
   "metadata": {
    "collapsed": false
   },
   "outputs": [],
   "source": [
    "from obspy import read_inventory\n",
    "\n",
    "inventory = read_inventory('data/stations/all_stations.xml')\n",
    "inventory.plot(projection=\"local\", resolution=\"i\");"
   ]
  },
  {
   "cell_type": "markdown",
   "metadata": {},
   "source": [
    "This inventory can directly be used as input to generate a list of `instaseis.Receiver` objects:"
   ]
  },
  {
   "cell_type": "code",
   "execution_count": null,
   "metadata": {
    "collapsed": false
   },
   "outputs": [],
   "source": [
    "receivers = instaseis.Receiver.parse(inventory)\n",
    "for rec in receivers[:2]:\n",
    "    print(rec)"
   ]
  },
  {
   "cell_type": "markdown",
   "metadata": {},
   "source": [
    "**Alternatively**, instaseis can directly open the station xml or STATIONS file (but then you don't have the nice plot):"
   ]
  },
  {
   "cell_type": "code",
   "execution_count": null,
   "metadata": {
    "collapsed": false
   },
   "outputs": [],
   "source": [
    "receivers = instaseis.Receiver.parse('data/stations/all_stations.xml')\n",
    "print(receivers[0])\n",
    "receivers = instaseis.Receiver.parse('data/stations/STATIONS')\n",
    "print(receivers[0])"
   ]
  },
  {
   "cell_type": "markdown",
   "metadata": {},
   "source": [
    "### 2. Load Events\n",
    "**reminder:** use ObsPy to load events from a QuakeML file containing all events and plot a map:"
   ]
  },
  {
   "cell_type": "code",
   "execution_count": null,
   "metadata": {
    "collapsed": false
   },
   "outputs": [],
   "source": [
    "import glob # provides iterator to loop over files\n",
    "\n",
    "cat = obspy.core.event.Catalog()\n",
    "\n",
    "for filename in glob.iglob('data/events/quakeml/*.xml'):\n",
    "     cat += obspy.readEvents(filename)\n",
    "        \n",
    "print(cat)\n",
    "print(instaseis.Source.parse(cat.events[0]))\n",
    "cat.plot();"
   ]
  },
  {
   "cell_type": "markdown",
   "metadata": {},
   "source": [
    "**Alternatively** load QuakeML or CMTSOLUTION files directly using `instaseis.Source.parse()` and store the sources in a list:"
   ]
  },
  {
   "cell_type": "code",
   "execution_count": null,
   "metadata": {
    "collapsed": false,
    "scrolled": false
   },
   "outputs": [],
   "source": [
    "sources = []\n",
    "\n",
    "for filename in glob.iglob('data/events/quakeml/*.xml'):\n",
    "    sources.append(instaseis.Source.parse(filename))\n",
    "    \n",
    "print(sources[0])\n",
    "\n",
    "for filename in glob.iglob('data/events/cmtsolutions/*'):\n",
    "    sources.append(instaseis.Source.parse(filename))\n",
    "\n",
    "print(sources[0])"
   ]
  },
  {
   "cell_type": "markdown",
   "metadata": {},
   "source": [
    "### 3. Extract Seismograms and Save to File"
   ]
  },
  {
   "cell_type": "markdown",
   "metadata": {},
   "source": [
    "For the first solution using a ObsPy event catalog:"
   ]
  },
  {
   "cell_type": "code",
   "execution_count": null,
   "metadata": {
    "collapsed": false
   },
   "outputs": [],
   "source": [
    "dt = 1.0\n",
    "\n",
    "for event in cat:\n",
    "    src = instaseis.Source.parse(event)\n",
    "    srcname = '%s_Mw_%3.1f' % (src.origin_time.date, src.moment_magnitude)\n",
    "    for rec in receivers:\n",
    "        # create a usefull filename\n",
    "        recname = '%s_%s' % (rec.network, rec.station)\n",
    "        filename = '%s_%s' % (recname, srcname)\n",
    "        filename = filename.replace('.', '_')\n",
    "        \n",
    "        # extract seismograms using instaseis\n",
    "        \n",
    "        \n",
    "        # write to miniseed files in the data_out folder. Write as MiniSEED due to multi\n",
    "        # component support.\n",
    "        "
   ]
  },
  {
   "cell_type": "markdown",
   "metadata": {},
   "source": [
    "For the second solution use a list of sources:"
   ]
  },
  {
   "cell_type": "code",
   "execution_count": null,
   "metadata": {
    "collapsed": false
   },
   "outputs": [],
   "source": [
    "dt = 1.0\n",
    "\n",
    "for src in sources:\n",
    "    srcname = '%s_Mw_%3.1f' % (src.origin_time.date, src.moment_magnitude)\n",
    "    for rec in receivers:\n",
    "        # create a usefull filename\n",
    "        recname = '%s_%s' % (rec.network, rec.station)\n",
    "        filename = '%s_%s' % (recname, srcname)\n",
    "        filename = filename.replace('.', '_')\n",
    "        \n",
    "        # extract seismograms using instaseis\n",
    "        \n",
    "        \n",
    "        # write to miniseed files in the data_out folder. Write as MiniSEED due to multi\n",
    "        # component support.\n",
    "        "
   ]
  },
  {
   "cell_type": "markdown",
   "metadata": {},
   "source": [
    "Check the data:"
   ]
  },
  {
   "cell_type": "code",
   "execution_count": null,
   "metadata": {
    "collapsed": false
   },
   "outputs": [],
   "source": [
    "ls data_out/"
   ]
  },
  {
   "cell_type": "markdown",
   "metadata": {},
   "source": [
    "### Acknowledgements\n",
    "\n",
    "Background picture at the very top is from Matthias Meschede."
   ]
  }
 ],
 "metadata": {
  "kernelspec": {
   "display_name": "Python 3",
   "language": "python",
   "name": "python3"
  },
  "language_info": {
   "codemirror_mode": {
    "name": "ipython",
    "version": 3
   },
   "file_extension": ".py",
   "mimetype": "text/x-python",
   "name": "python",
   "nbconvert_exporter": "python",
   "pygments_lexer": "ipython3",
   "version": "3.4.3"
  }
 },
 "nbformat": 4,
 "nbformat_minor": 0
}
