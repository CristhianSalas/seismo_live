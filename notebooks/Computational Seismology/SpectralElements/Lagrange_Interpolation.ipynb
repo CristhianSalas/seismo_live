{
 "cells": [
  {
   "cell_type": "markdown",
   "metadata": {},
   "source": [
    "<div style='background-image: url(\"../../share/images/header.svg\") ; padding: 0px ; background-size: cover ; border-radius: 5px ; height: 250px'>\n",
    "    <div style=\"float: right ; margin: 50px ; padding: 20px ; background: rgba(255 , 255 , 255 , 0.7) ; width: 50% ; height: 150px\">\n",
    "        <div style=\"position: relative ; top: 50% ; transform: translatey(-50%)\">\n",
    "            <div style=\"font-size: xx-large ; font-weight: 900 ; color: rgba(0 , 0 , 0 , 0.8) ; line-height: 100%\">Computational Seismology</div>\n",
    "            <div style=\"font-size: large ; padding-top: 20px ; color: rgba(0 , 0 , 0 , 0.5)\">Interpolation with Lagrange Polynomials</div>\n",
    "        </div>\n",
    "    </div>\n",
    "</div>"
   ]
  },
  {
   "cell_type": "markdown",
   "metadata": {},
   "source": [
    "Seismo-Live: http://seismo-live.org\n",
    "\n",
    "##### Authors:\n",
    "* Florian Wölfl ([@flo-woelfl](https://github.com/flo-woelfl))\n",
    "* Stephanie Wollherr ([@swollherr](https://github.com/swollherr))\n",
    "* Heiner Igel ([@heinerigel](https://github.com/heinerigel))\n",
    "---"
   ]
  },
  {
   "cell_type": "markdown",
   "metadata": {},
   "source": [
    "We can approximate an arbitrary function $f(x)$ using the interpolation with Lagrange polynomials $l_i$ at given collacation points $x_i$, i.e.\n",
    "\n",
    "\\begin{eqnarray*}\n",
    "f(x) = \\sum f(x_i) \\cdot l_i(x).\n",
    "\\end{eqnarray*}\n",
    "\n",
    "The Lagrange polynomials at $x$ are defined as follows:\n",
    "\n",
    "$$ \\ell_i^{(N)} (x) \\ := \\ \\prod_{k = 1, \\ k \\neq i}^{N+1} \\frac{x - x_k}{x_i-x_k}, \\qquad   i = 1, 2, \\dotsc , N + 1  $$\n",
    "\n",
    "\n",
    "They are implemented in Python with the following code:"
   ]
  },
  {
   "cell_type": "code",
   "execution_count": null,
   "metadata": {
    "collapsed": false
   },
   "outputs": [],
   "source": [
    "%matplotlib inline\n",
    "\n",
    "import numpy as np\n",
    "import matplotlib.pyplot as plt\n",
    "from gll import gll\n",
    "\n",
    "# Prettier plots.\n",
    "plt.style.use('ggplot')"
   ]
  },
  {
   "cell_type": "code",
   "execution_count": null,
   "metadata": {
    "collapsed": false
   },
   "outputs": [],
   "source": [
    "def lagrange2(N, i, x, xi):\n",
    "    \"\"\"\n",
    "    Function to calculate  Lagrange polynomial for order N\n",
    "    and polynomial i [0, N] at location x at given collacation points xi\n",
    "    (not necessarily the GLL-points)\n",
    "    \"\"\"\n",
    "    fac = 1\n",
    "    for j in range(-1, N):\n",
    "        if j != i:\n",
    "            fac = fac * ((x - xi[j + 1]) / (xi[i + 1] - xi[j + 1]))\n",
    "    return fac\n",
    "\n",
    "N = 4\n",
    "x = np.linspace(-1, 1, 1000)\n",
    "xi, _ = gll(N)\n",
    "\n",
    "plt.figure(figsize=(8, 3))\n",
    "for _i in range(N):\n",
    "    plt.plot(x, lagrange2(N, _i, x, xi))\n",
    "plt.ylim(-0.3, 1.1)\n",
    "plt.title(\"Lagrange Polynomials of order %i\" % N)\n",
    "plt.show()"
   ]
  },
  {
   "cell_type": "markdown",
   "metadata": {},
   "source": [
    "##Exercises:\n",
    "\n",
    "### 1. The GLL-points\n",
    "* Use the `gll()` routine to determine the collocation points for a given order $N$ in the interval $[-1,1]$.\n",
    "* Define an arbitrary function $f(x)$ and use the function `lagrange(N,i,x)` to get the $i$-th Lagrange polynomials of order N at the point x.\n",
    "* Calculate the interpolating function to $f(x)$.\n",
    "* Show that the interpolation is exact at the collocation points.\n",
    "* Compare the original function $f(x)$ and the interpolating function on a finely spaced grid. Vary the order of the interpolating polynomials and calculate the error as a function of order.\n",
    "\n",
    "\n",
    "### 2. Equidistant collocation points and the Runge function\n",
    "In the first exercise we used the GLL-points that are not equidistant.\n",
    "Now use equidistant collacation points for the interpolation of your function $f$. Compare the two results.\n",
    "\n",
    "Change the code for the Runge-function on the interval $[-5,5]$\n",
    "\n",
    "$$ f(x)=\\frac{1}{(1+x^2)} $$\n",
    "\n",
    "What do you notice when you decrease the order of your interpolation?"
   ]
  },
  {
   "cell_type": "code",
   "execution_count": null,
   "metadata": {
    "collapsed": false
   },
   "outputs": [],
   "source": [
    "# CHOOSE THE EXERCISE\n",
    "exercise = 1\n",
    "\n",
    "# Exercise 1\n",
    "if exercise == 1:\n",
    "    # Initialize space in the interval [-1, 1]\n",
    "    nx = 1000\n",
    "    x = np.linspace(-1, 1, nx)\n",
    "    \n",
    "    # CHANGE FUNCTION HERE. Currently a simple sine function.\n",
    "    f = np.sin(np.pi * x)\n",
    "    \n",
    "# Exercise 2\n",
    "elif exercise == 2:\n",
    "    # Initialize space in the interval [-5, 5]\n",
    "    nx = 1000\n",
    "    x = np.linspace(-5, 5, nx)\n",
    "    # CHANGE FUNCTION HERE. Currently the Runge function.\n",
    "    f = 1/(1 + x ** 2)\n",
    "\n",
    "# Get order of Lagrange polynomial\n",
    "N = int(input(' Give polynomials degree (N): '))\n",
    "\n",
    "\n",
    "if exercise == 1:\n",
    "    # Get collocation points xi from gll routine   \n",
    "    [xi, w] = gll(N)\n",
    "    fi = np.interp(xi, x, f) \n",
    "elif exercise == 2:\n",
    "    xi = np.linspace(-5, 5, N+1)\n",
    "    fi = np.interp(xi, x, f)\n",
    "\n",
    "    \n",
    "# Initialize Lagrange polynomials on the defined grid\n",
    "lp = np.zeros((N + 1, len(x)))\n",
    "for i in range(0, len(x)):\n",
    "    for j in range(-1, N):\n",
    "        lp[j + 1, i] = lagrange2(N, j, x[i], xi)\n",
    "\n",
    "\n",
    "# Calculate interpolating polynomials by multiplying \n",
    "# Lagrange polynomials with function values at xi\n",
    "s = x * 0\n",
    "for j in range(0, N + 1):   \n",
    "    s = s + lp[j, :] * fi[j]\n",
    "\n",
    "error = np.sum((np.abs(f - s))) / np.sum(np.abs(f)) * 100\n",
    "\n",
    "# Plot results  \n",
    "plt.figure()\n",
    "plt.plot(x, s, 'k-', color='green', label='Interpolating function')\n",
    "plt.plot(x, f, 'k--', label='Original function')\n",
    "plt.plot(xi, fi, 's', label='Collocation points')\n",
    "plt.title('Relative error: %g %%' % error)\n",
    "plt.xlabel('x')\n",
    "plt.ylabel('f(x)')\n",
    "\n",
    "if exercise == 1:\n",
    "    plt.legend(loc=\"upper center\")\n",
    "elif exercise == 2:\n",
    "    plt.xlim(-5, 5)\n",
    "    plt.legend(loc=2)\n",
    "\n",
    "plt.show()"
   ]
  }
 ],
 "metadata": {
  "kernelspec": {
   "display_name": "Python 3",
   "language": "python",
   "name": "python3"
  },
  "language_info": {
   "codemirror_mode": {
    "name": "ipython",
    "version": 3
   },
   "file_extension": ".py",
   "mimetype": "text/x-python",
   "name": "python",
   "nbconvert_exporter": "python",
   "pygments_lexer": "ipython3",
   "version": "3.5.1"
  }
 },
 "nbformat": 4,
 "nbformat_minor": 0
}
