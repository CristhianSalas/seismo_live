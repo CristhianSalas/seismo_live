{
 "cells": [
  {
   "cell_type": "markdown",
   "metadata": {},
   "source": [
    "<div style=\"background-image:url(../images/header.svg); padding: 0px; background-size:cover; background-opacity:50%; border-radius:5px; height: 250px\">\n",
    "    <div style=\"float:right; margin: 50px; padding: 20px; background:rgba(255,255,255,0.7); width: 50%; height: 150px\">\n",
    "        <div style=\"position:relative; top:50%; transform: translateY(-50%)\">\n",
    "            <div style=\"font-size: xx-large; font-weight:900; color:rgba(0,0,0,0.8); line-height:100%\">Computational Seismology</div>\n",
    "            <div style=\"font-size: large; padding-top: 20px; color:rgba(0,0,0,0.5)\">Numerical Integration - The Gauss-Lobatto-Legendre approach</div>\n",
    "        </div>\n",
    "    </div>\n",
    "</div>"
   ]
  },
  {
   "cell_type": "markdown",
   "metadata": {},
   "source": [
    "Seismo-Live: http://seismo-live.org\n",
    "\n",
    "##### Authors:\n",
    "* Heiner Igel ([@heinerigel](https://github.com/heinerigel))\n",
    "* Stephanie Wollherr ([@swollherr](https://github.com/swollherr))\n",
    "* Florian Wölfl ([@flo-woelfl](https://github.com/flo-woelfl))\n",
    "---"
   ]
  },
  {
   "cell_type": "markdown",
   "metadata": {},
   "source": [
    "The following notebook presents a basic integration scheme that we're going to use in the Spectral Element Code as well as in the Discontinuous Galerkin Code to calculate the entries of the mass and stiffness matrices."
   ]
  },
  {
   "cell_type": "markdown",
   "metadata": {},
   "source": [
    "**Fundamental principal:**<br>\n",
    "Replace the function $f(x)$ that we want to integrate by a polynomial approximation that can be integrated analytically.\n",
    "\n",
    "As interpolating functions we use the Lagrange polynomials $l_i$ and obtain the following integration scheme for an arbitrary function $f(x)$ defined on the interval $[-1,1]$ :\n",
    "\\begin{eqnarray*} \\int_{-1}^1 f(x) \\ dx \\approx \\int _{-1}^1 P_N(x) dx = \\sum_{i=1}^{N+1} w_i f(x_i) \\end{eqnarray*}\n",
    "with \n",
    "\\begin{eqnarray*}\n",
    "    P_N(x)= \\sum_{i=1}^{N+1} f(x_i) \\ l_i^{(N)}(x).\n",
    "\\end{eqnarray*}\n",
    "As collocation points we use the Gauss-Lobatto-Legendre points $x_i$ and the corresponding weights that are needed to evaluate the integral are calculated as follows:\n",
    "\\begin{eqnarray*} w_i= \\int_{-1}^1 l_i^{(N)}(x) \\ dx \\end{eqnarray*}."
   ]
  },
  {
   "cell_type": "markdown",
   "metadata": {},
   "source": [
    "## Exercises\n",
    "We want to investigate the performance of\n",
    "the numerical integration scheme. You can use the `gll()` routine to\n",
    "obtain the differentiation weights $w_i$ for an\n",
    "arbitrary function f(x) and the relevant integration points $x_i$. \n",
    "\n",
    "### 1. Numerical integration of an arbritrary function:\n",
    "Define a function $f(x)$\n",
    "of your choice and calculate analytically the\n",
    "integral $\\int f(x) \\ dx$ for the interval $[−1, 1]$. Perform the integration numerically and compare the results. \n",
    "\n",
    "### 2. The order of integration\n",
    "Modify the function and\n",
    "the order of the numerical integration. Discuss the results.\n",
    "\n",
    "### Have fun!"
   ]
  },
  {
   "cell_type": "code",
   "execution_count": null,
   "metadata": {
    "collapsed": false
   },
   "outputs": [],
   "source": [
    "# This is a configuration step for the exercise. Please run it before the simulation code!\n",
    "import numpy as np\n",
    "import matplotlib.pyplot as plt\n",
    "\n",
    "from gll import gll\n",
    "from lagrange2 import lagrange2\n",
    "\n",
    "# Show the plots in the Notebook.\n",
    "plt.switch_backend(\"nbagg\")\n",
    "\n",
    "# Prettier plots.\n",
    "plt.style.use('ggplot')"
   ]
  },
  {
   "cell_type": "code",
   "execution_count": null,
   "metadata": {
    "collapsed": false
   },
   "outputs": [],
   "source": [
    "# Exercise for Gauss integration\n",
    "\n",
    "n = 1000 \n",
    "x = np.linspace(-1, 1, n)\n",
    "\n",
    "# MODIFY f and intf to test different functions!\n",
    "f = np.sin(x * np.pi) \n",
    "\n",
    "# Analytical value of the DEFINITE integral from -1 to 1\n",
    "intf = 1.0 / np.pi * (-np.cos(1.0 * np.pi) + np.cos(-1.0 * np.pi))\n",
    "\n",
    "# Choose order\n",
    "N =int(input('Give order of integration: '))\n",
    "\n",
    "# Get integration points and weights from the gll routine\n",
    "xi, w = gll(N)\n",
    "\n",
    "# Initialize function at points xi\n",
    "fi = np.interp(xi, x, f)\n",
    "\n",
    "# Evaluate integral\n",
    "intfn = 0\n",
    "for i in range(len(w)):\n",
    "    intfn = intfn + w[i] * fi[i]\n",
    "\n",
    "# Calculate Lagrange Interpolant for plotting purposes.\n",
    "lp = np.zeros((N + 1, len(x)))\n",
    "for i in range(0, len(x)):\n",
    "    for j in range(-1, N):\n",
    "        lp[j + 1, i] = lagrange2(N, j, x[i], xi)\n",
    "s = np.zeros_like(x)\n",
    "for j in range(0, N + 1):   \n",
    "    s = s + lp[j, :] * fi[j]\n",
    "    \n",
    "print('Solution of the analytical integral: %g' % intf)\n",
    "print('Solution of the numerical integral: %g' % intfn)\n",
    "\n",
    "# Plot results.\n",
    "plt.figure(figsize=(10, 5))\n",
    "plt.plot(x, f, 'k-', label='Analytical Function')\n",
    "\n",
    "plt.plot(xi, fi, 'bs', label='GLL points')\n",
    "plt.plot(x, s, label='Lagrange Interpolant')\n",
    "plt.fill_between(x, s, np.zeros_like(x), alpha=0.3)\n",
    "plt.xlabel('x')\n",
    "plt.ylabel('y')\n",
    "plt.title('Numerical vs. Analytical Function')\n",
    "\n",
    "plt.legend()\n",
    "plt.show()"
   ]
  }
 ],
 "metadata": {
  "kernelspec": {
   "display_name": "Python 3",
   "language": "python",
   "name": "python3"
  },
  "language_info": {
   "codemirror_mode": {
    "name": "ipython",
    "version": 3
   },
   "file_extension": ".py",
   "mimetype": "text/x-python",
   "name": "python",
   "nbconvert_exporter": "python",
   "pygments_lexer": "ipython3",
   "version": "3.5.1"
  }
 },
 "nbformat": 4,
 "nbformat_minor": 0
}
