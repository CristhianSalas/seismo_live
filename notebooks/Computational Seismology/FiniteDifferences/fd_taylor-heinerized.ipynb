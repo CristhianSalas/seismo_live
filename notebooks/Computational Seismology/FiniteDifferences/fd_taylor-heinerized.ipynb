{
 "cells": [
  {
   "cell_type": "markdown",
   "metadata": {},
   "source": [
    "<div style='background-image: url(\"../../share/images/header.svg\") ; padding: 0px ; background-size: cover ; border-radius: 5px ; height: 250px'>\n",
    "    <div style=\"float: right ; margin: 50px ; padding: 20px ; background: rgba(255 , 255 , 255 , 0.7) ; width: 50% ; height: 150px\">\n",
    "        <div style=\"position: relative ; top: 50% ; transform: translatey(-50%)\">\n",
    "            <div style=\"font-size: xx-large ; font-weight: 900 ; color: rgba(0 , 0 , 0 , 0.8) ; line-height: 100%\">Computational Seismology</div>\n",
    "            <div style=\"font-size: large ; padding-top: 20px ; color: rgba(0 , 0 , 0 , 0.5)\">Finite Differences - Taylor Operators and Numerical Differentiation</div>\n",
    "        </div>\n",
    "    </div>\n",
    "</div>"
   ]
  },
  {
   "cell_type": "markdown",
   "metadata": {},
   "source": [
    "Seismo-Live: http://seismo-live.org\n",
    "\n",
    "##### Authors:\n",
    "* Lion Krischer ([@krischer](https://github.com/krischer))\n",
    "* Heiner Igel ([@heinerigel](https://github.com/heinerigel))\n",
    "---"
   ]
  },
  {
   "cell_type": "markdown",
   "metadata": {},
   "source": [
    "This exercise covers the following aspects:\n",
    "\n",
    "* Use the Taylor series to calculate finite-difference operators\n",
    "* Learn how to define high-order finite-difference operators\n",
    "* Demonstrate the accuracy improvement by testing the operators on (arbitrary) functions\n",
    "\n",
    "---"
   ]
  },
  {
   "cell_type": "markdown",
   "metadata": {},
   "source": [
    "## Basic Equations\n",
    "\n",
    "The Taylor expansion of $f(x + dx)$ around $x$ is defined as \n",
    "\n",
    "$$\n",
    "f(x+dx)=\\sum_{n=0}^\\infty \\frac{f^{(n)}(x)}{n!}dx^{n}  \n",
    "$$\n",
    "\n",
    "\n",
    "Finite-difference operators can be calculated by seeking weights (here: $a$, $b$, $c$) with which function values have to be multiplied to obtain an interpolation or a derivative. Example:\n",
    "\n",
    "$$\n",
    "\\begin{align}\n",
    "a ~ f(x + dx) & \\ = \\ a ~ \\left[ ~  f(x) +  f^{'} (x) dx +  \\frac{1}{2!}  f^{''} (x) dx^2   + \\dotsc  ~ \\right] \\\\\n",
    "b ~ f(x) & \\  = \\ b ~ \\left[ ~  f(x)  ~ \\right] \\\\\n",
    "c ~ f(x - dx) & \\ = \\ c ~ \\left[ ~  f(x) -  f^{'} (x) dx +  \\frac{1}{2!}  f^{''} (x) dx^2   - \\dotsc  ~ \\right]\n",
    "\\end{align}\n",
    "$$\n",
    "\n",
    "This can  be expressed in matrix form by comparing coefficients, here seeking a 2nd derivative\n",
    "\n",
    "$$\n",
    "\\begin{align}\n",
    "&a  ~~+~~            ~~~~b           &+~~  c & = & 0 \\\\\n",
    "&a  ~~\\phantom{+}~~ \\phantom{b}  &-~~  c & = & 0 \\\\\n",
    "&a  ~~\\phantom{+}~~ \\phantom{b}  &+~~  c & = & \\frac{2!}{\\mathrm{d}x^2}\n",
    "\\end{align}\n",
    "$$\n",
    "\n",
    "which leads to \n",
    "\n",
    "$$\n",
    "\\begin{pmatrix}\n",
    "  1 & 1 & 1 \\\\\n",
    "  1 & 0 & -1 \\\\\n",
    "  1 & 0 & 1\n",
    " \\end{pmatrix}\n",
    "\\begin{pmatrix}\n",
    "  a\\\\\n",
    " b \\\\\n",
    " c\n",
    " \\end{pmatrix}\n",
    " =\n",
    " \\begin{pmatrix}\n",
    "  0\\\\\n",
    " 0 \\\\\n",
    " \\frac{2!}{dx^2}\n",
    " \\end{pmatrix}\n",
    "$$\n",
    "\n",
    "and using matrix inversion we obtain \n",
    "\n",
    "$$\n",
    "\\begin{pmatrix}\n",
    "a \\\\\n",
    "b\\\\\n",
    "c\n",
    "\\end{pmatrix}\n",
    "=\n",
    "\\begin{pmatrix}\n",
    "\\frac{1}{2 \\mathrm{d}x^2} \\\\\n",
    " - \\frac{2}{2 \\mathrm{d}x^2} \\\\\n",
    "  \\frac{1}{2 \\mathrm{d}x^2}\n",
    "\\end{pmatrix}\n",
    "$$\n",
    "\n",
    "This is the the well known 3-point operator for the 2nd derivative. This can easily be generalized to higher point operators and higher order derivatives. Below you will find a routine that initializes the system matrix and solves for the Taylor operator. "
   ]
  },
  {
   "cell_type": "markdown",
   "metadata": {},
   "source": [
    "---\n",
    "\n",
    "## Calculating the Taylor operator\n",
    "\n",
    "The subroutine `central_difference_coefficients()` initalizes the system matrix and solves for the difference weights assuming $dx=1$. It calculates the centered differences using an arbitrary number of coefficients, also for higher derivatives. The weights are defined at $x\\pm i dx$ and $i=0,..,(nop-1)/2$, where $nop$ is the length of the operator. Careful! Because it is centered $nop$ has to be an odd number (3,5,...)!\n",
    "\n",
    "It returns a central finite difference stencil (a vector of length $nop$)  for the `n`th derivative."
   ]
  },
  {
   "cell_type": "code",
   "execution_count": null,
   "metadata": {
    "collapsed": false
   },
   "outputs": [],
   "source": [
    "import math\n",
    "import numpy as np\n",
    "\n",
    "\n",
    "def central_difference_coefficients(nop, n):\n",
    "    \"\"\"\n",
    "    Calculate the central finite difference stencil for an arbitrary number\n",
    "    of points and an arbitrary order derivative.\n",
    "    \n",
    "    :param nop: The number of points for the stencil. Must be\n",
    "        an odd number.\n",
    "    :param n: The derivative order. Must be a positive number.\n",
    "    \"\"\"\n",
    "    m = np.zeros((nop, nop))\n",
    "    for i in range(nop):\n",
    "        for j in range(nop):\n",
    "            dx = j - nop // 2\n",
    "            m[i, j] = dx ** i\n",
    "    \n",
    "    s = np.zeros(nop)\n",
    "    s[n] = math.factorial(n)\n",
    "    \n",
    "    # The following statement return oper = inv(m) s\n",
    "    oper = np.linalg.solve(m, s)\n",
    "    # Calculate operator\n",
    "    return oper"
   ]
  },
  {
   "cell_type": "markdown",
   "metadata": {},
   "source": [
    "---\n",
    "\n",
    "## Plot Taylor operators\n",
    "\n",
    "Investigate graphically the Taylor operators. Increase $nop$ for the first $n=1$ or higher order derivatives. Discuss the results and try to understand the interpolation operator (derivative order $n=0$)."
   ]
  },
  {
   "cell_type": "code",
   "execution_count": null,
   "metadata": {
    "collapsed": false
   },
   "outputs": [],
   "source": [
    "%matplotlib inline\n",
    "\n",
    "# Some necessary initialization\n",
    "import matplotlib.pylab as plt\n",
    "plt.style.use('ggplot')\n",
    "\n",
    "# Give length of operator (odd)\n",
    "nop = 5\n",
    "# Give order of derivative (0 - interpolation, 1 - first derivative, 2 - second derivative)\n",
    "n = 1\n",
    "\n",
    "# Get operator from routine 'central_difference_coefficients'\n",
    "oper = central_difference_coefficients(nop, n)\n",
    "\n",
    "# Initialize location of operator\n",
    "x = np.linspace(-(nop - 1) / 2, (nop - 1) / 2, nop)\n",
    "\n",
    "# Simple plot with operator\n",
    "plt.figure(figsize=(10, 4))\n",
    "plt.plot(x, oper)\n",
    "plt.show()"
   ]
  },
  {
   "cell_type": "markdown",
   "metadata": {},
   "source": [
    "---\n",
    "\n",
    "## Accuracy of centered finite differences\n",
    "\n",
    "Define a simple function, e.g. sine, cosine, gaussian, some polynomial, ..., differentiate it using the stencils returned from the above function and compare the result to the analytically calculated derivative. Keep the physical domain (e.g., 3$\\pi$) constant but change 1) the number of points nx (i.e., change dx) or 2) change the wavenumber k. In both cases you change the number of grid points per wavelength. Calculate the error of the solution (in the center of the domain) and look at the error as a function of grid points per wavelength. "
   ]
  },
  {
   "cell_type": "code",
   "execution_count": null,
   "metadata": {
    "collapsed": false
   },
   "outputs": [],
   "source": [
    "# Let us initialize space between 0 and 10 pi with 10000 points\n",
    "# Note: here you can be creative, change the function as you like, \n",
    "# as long as you know the analytical derivative \n",
    "nx = 100        # Number of points in x\n",
    "x = np.linspace(0, 3 * np.pi, nx)\n",
    "\n",
    "# We initialite a function f as a sin curve with wavenumber k\n",
    "k = 3\n",
    "f = np.sin(k * x)\n",
    "\n",
    "# The analytical derivative is given by\n",
    "dfa = k * np.cos(k * x)\n",
    "\n",
    "# We need to know the grid spacing dx \n",
    "dx = x[2] - x[1]\n",
    "\n",
    "# Now let's get the finite difference operator with paramters\n",
    "nop = 5 # Length of operator\n",
    "n = 1   #  1 st derivative\n",
    "oper = central_difference_coefficients(nop, n)\n",
    "\n",
    "# Calculate the derivative of f(x) by applying the finite-difference operator\n",
    "df = np.zeros(nx)\n",
    "# Loop over the central points where we calculate the derivatives\n",
    "for i in range(nop // 2, nx - nop // 2):  # Avoid the boundaries\n",
    "    # Loop over operator\n",
    "    for j in range(0, nop):  \n",
    "       df[i] = df[i] + oper[j] * f[i - (nop - 1) / 2 + j]\n",
    "           \n",
    "# Scale by dx.\n",
    "df /= dx ** n\n",
    "\n",
    "plt.plot(df, label=\"Numerical derivative\", lw=2)\n",
    "plt.plot(dfa, ls=\"--\",label=\"Analytic derivative\")\n",
    "plt.legend()\n",
    "plt.show()"
   ]
  }
 ],
 "metadata": {
  "kernelspec": {
   "display_name": "Python 3",
   "language": "python",
   "name": "python3"
  },
  "language_info": {
   "codemirror_mode": {
    "name": "ipython",
    "version": 3
   },
   "file_extension": ".py",
   "mimetype": "text/x-python",
   "name": "python",
   "nbconvert_exporter": "python",
   "pygments_lexer": "ipython3",
   "version": "3.5.1"
  }
 },
 "nbformat": 4,
 "nbformat_minor": 0
}
