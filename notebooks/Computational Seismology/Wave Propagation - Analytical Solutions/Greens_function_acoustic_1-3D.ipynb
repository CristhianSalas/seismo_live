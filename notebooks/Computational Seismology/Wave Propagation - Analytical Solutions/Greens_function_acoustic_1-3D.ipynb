{
 "cells": [
  {
   "cell_type": "markdown",
   "metadata": {},
   "source": [
    "<div style='background-image: url(\"../../share/images/header.svg\") ; padding: 0px ; background-size: cover ; border-radius: 5px ; height: 250px'>\n",
    "    <div style=\"float: right ; margin: 50px ; padding: 20px ; background: rgba(255 , 255 , 255 , 0.7) ; width: 50% ; height: 150px\">\n",
    "        <div style=\"position: relative ; top: 50% ; transform: translatey(-50%)\">\n",
    "            <div style=\"font-size: xx-large ; font-weight: 900 ; color: rgba(0 , 0 , 0 , 0.8) ; line-height: 100%\">Computational Seismology</div>\n",
    "            <div style=\"font-size: large ; padding-top: 20px ; color: rgba(0 , 0 , 0 , 0.5)\">Green's functions for the homogeneous acoustic wave equation</div>\n",
    "        </div>\n",
    "    </div>\n",
    "</div>"
   ]
  },
  {
   "cell_type": "markdown",
   "metadata": {},
   "source": [
    "\n",
    "<p style=\"width:20%;float:right;padding-left:50px\">\n",
    "<img src=../../share/images/book.jpg>\n",
    "<span style=\"font-size:smaller\">\n",
    "</span>\n",
    "</p>\n",
    "\n",
    "\n",
    "---\n",
    "\n",
    "This notebook is part of the supplementary material \n",
    "to [Computational Seismology: A Practical Introduction](https://global.oup.com/academic/product/computational-seismology-9780198717416?cc=de&lang=en&#), \n",
    "Oxford University Press, 2016.\n",
    "\n",
    "##### Authors:\n",
    "* Kristina Garina\n",
    "* Ashim Rijal\n",
    "* Heiner Igel ([@heinerigel](https://github.com/heinerigel))\n",
    "\n",
    "---"
   ]
  },
  {
   "cell_type": "markdown",
   "metadata": {},
   "source": [
    "### Excercise:\n",
    "Initialise Green's function in 1D, 2D and 3D cases of the acoustic wave equation and convolve them with an arbitrary source time function **(see Chapter 2, Section 2.2, Fig. 2.9)**\n",
    "\n",
    "---"
   ]
  },
  {
   "cell_type": "markdown",
   "metadata": {},
   "source": [
    "This exercise covers the following aspects:\n",
    "\n",
    "* Learn how to define a source time function\n",
    "* Calculation of analytical Green's function in the 1D, 2D, and 3D cases \n",
    "* Convolution of Green's function with source time function\n",
    "\n",
    "---"
   ]
  },
  {
   "cell_type": "markdown",
   "metadata": {},
   "source": [
    "**Please, execute first!**"
   ]
  },
  {
   "cell_type": "code",
   "execution_count": null,
   "metadata": {
    "code_folding": [
     0
    ],
    "collapsed": false
   },
   "outputs": [],
   "source": [
    "# Import Libraries\n",
    "%matplotlib notebook\n",
    "%pylab inline\n",
    "import numpy as np\n",
    "import matplotlib.pyplot as plt"
   ]
  },
  {
   "cell_type": "markdown",
   "metadata": {},
   "source": [
    "Below we introduce the initial parameters: velocity, distance, length of seismogram, frequency, number of samples, time increment and geometry"
   ]
  },
  {
   "cell_type": "code",
   "execution_count": null,
   "metadata": {
    "code_folding": [
     0
    ],
    "collapsed": false
   },
   "outputs": [],
   "source": [
    "#Initial parameters\n",
    "c = 1.           # velocity m/s \n",
    "r = 2.           # distance from source\n",
    "tmax = 5.        # length of seismogram (s)\n",
    "f0 = 1          # Frequency (Hz)\n",
    "nt = 3000       # number of time samples\n",
    "dt = tmax/nt    # time increment\n",
    "ts=0            # source time\n",
    "\n",
    "\n",
    "# Geometry\n",
    "xs=0            # coordinates of source\n",
    "ys=0\n",
    "zs=0\n",
    "\n",
    "xr=r            # coordinates of receiver\n",
    "yr=0\n",
    "zr=0"
   ]
  },
  {
   "cell_type": "markdown",
   "metadata": {},
   "source": [
    "## Source time function\n",
    "\n",
    "Below we initialise time and calculate source time function"
   ]
  },
  {
   "cell_type": "code",
   "execution_count": null,
   "metadata": {
    "code_folding": [
     0
    ],
    "collapsed": true
   },
   "outputs": [],
   "source": [
    "# Defining time\n",
    "\n",
    "for i in range (nt+1):\n",
    "    t=(np.arange(0,i)*dt)\n",
    "time=np.zeros(nt) \n",
    "time[0:nt]=t"
   ]
  },
  {
   "cell_type": "code",
   "execution_count": null,
   "metadata": {
    "code_folding": [
     0
    ],
    "collapsed": false
   },
   "outputs": [],
   "source": [
    "# Defining source time function\n",
    "\n",
    "p=1./f0          # period\n",
    "t0 = p/dt        # defining t0\n",
    "sigma=4./p      \n",
    "\n",
    "# Initialization of source-time function\n",
    "src=np.zeros(nt) \n",
    "source=np.zeros(nt)\n",
    "\n",
    "# Initialization of first derivative of gaussian\n",
    "for it in range(nt):\n",
    "    t=(it-t0)*dt\n",
    "    src[it]=-2*sigma*t*np.exp(-(sigma*t)**2)\n",
    "source[0:nt]=src\n",
    "\n",
    "# Plotting of source time function\n",
    "plt.plot(time, src)\n",
    "plt.title('Source time function')\n",
    "plt.xlabel('Time, s')\n",
    "plt.ylabel('Amplitude')\n",
    "plt.grid()\n",
    "plt.show()"
   ]
  },
  {
   "cell_type": "markdown",
   "metadata": {},
   "source": [
    "## 1D Green's function  \n",
    "\n",
    "Below we calculate the Green's function for the 1D acoustic problem, its convolution with a source time function. Please note, that we center the source time function around t=0.\n",
    "\n",
    "In the 1D case, Green's function is proportional to a Heaviside function. As the response to an arbitrary source time function can be obtained by convolution this implies that the propagating waveform is the integral of the source time function.\n",
    "\n",
    "\n",
    "$G_1=\\dfrac{1}{2c}H(t-\\dfrac{|r|}{c}) $\n",
    "\n",
    "$r=x$\n",
    "\n",
    "\n",
    "---"
   ]
  },
  {
   "cell_type": "code",
   "execution_count": null,
   "metadata": {
    "code_folding": [
     0
    ],
    "collapsed": false
   },
   "outputs": [],
   "source": [
    "# Calculating Green's function in 1D\n",
    "\n",
    "G=np.zeros(nt)      # initialization G with zeros\n",
    "\n",
    "for i in range (nt):\n",
    "    if (((time[i]-ts)-abs(xr-xs)/c)>=0):\n",
    "        G[i]=1./(2*c)\n",
    "    else:\n",
    "        G[i]=0\n",
    "\n",
    "# Plotting Green's function in 1D\n",
    "plt.plot(time, G)\n",
    "plt.title(\"Green's function in 1D\" )\n",
    "plt.xlabel(\"Time, s\")\n",
    "plt.ylabel(\"Amplitude\")\n",
    "plt.grid()\n",
    "plt.show()\n",
    "\n",
    "# Convolution of Green's function with the 1st derivative of a Gaussian\n",
    "G1=np.convolve(G, source*dt)[:len(G)]\n",
    "\n",
    "# Plotting convolved Green's function in 1D\n",
    "plt.plot(time-t0*dt, G1)\n",
    "plt.title('After convolution')\n",
    "plt.xlabel('Time, s')\n",
    "plt.ylabel('Amplitude')\n",
    "plt.xlim (0, tmax)\n",
    "plt.grid()\n",
    "plt.show()"
   ]
  },
  {
   "cell_type": "markdown",
   "metadata": {},
   "source": [
    "## 2D Green's function  \n",
    "\n",
    "Below we calculate the Green's function for 2D acoustic problem, its convolution with the source time function. Please note, that we center the source time function around t=0. \n",
    "\n",
    "$G_2=\\dfrac{1}{2\\pi c^2}\\dfrac{H(t-\\dfrac{|r|}{c})}{\\sqrt{t^2-\\dfrac{r^2}{c^2}}}$ \n",
    "\n",
    "$r = \\sqrt{x^2+y^2}$\n",
    "\n",
    "\n",
    "---"
   ]
  },
  {
   "cell_type": "code",
   "execution_count": null,
   "metadata": {
    "code_folding": [],
    "collapsed": false
   },
   "outputs": [],
   "source": [
    "# Calculation of Green's function for 2D\n",
    "\n",
    "G=np.zeros(nt)                    # initialization G with zeros\n",
    "r=sqrt((xs-xr)**2+(ys-yr)**2)\n",
    "\n",
    "for i in range (nt):\n",
    "    if (((time[i]-ts)-abs(xr-xs)/c)>0):\n",
    "        G[i]=(1./(2*pi*c**2))*(1./sqrt((time[i]-ts)**2-(r**2/c**2)))\n",
    "    else:\n",
    "        G[i]=0\n",
    "           \n",
    "# Plotting Green's function in 2D\n",
    "plt.plot(time, G)\n",
    "plt.title(\"Green's function in 2D\" )\n",
    "plt.xlabel(\"Time, s\")\n",
    "plt.ylabel(\"Amplitude\")\n",
    "plt.xlim((0, tmax))\n",
    "plt.grid()\n",
    "plt.show()\n",
    "\n",
    "# Convolution of Green's function with the 1st derivative of a Gaussian\n",
    "G2=np.convolve(G, source*dt)[:len(G)]\n",
    "\n",
    "# Plotting convolved Green's function in 1D\n",
    "plt.plot(time-t0*dt,G2)\n",
    "plt.title('After convolution')\n",
    "plt.xlabel('Time, s')\n",
    "plt.ylabel('Amplitude')\n",
    "plt.xlim((0, tmax))\n",
    "plt.grid()\n",
    "plt.show()"
   ]
  },
  {
   "cell_type": "markdown",
   "metadata": {},
   "source": [
    "## 3D Green's function  \n",
    "\n",
    "Below we calculate the Green's function for 3D acoustic problem, its convolution with the source time function. Please note, that we center the source time function around t=0. \n",
    "\n",
    "$G_3=\\dfrac{1}{4 \\pi c^2 r}\\delta(t-r/c)$ \n",
    "\n",
    "$r = \\sqrt{x^2+y^2+z^2}$\n",
    "\n",
    "\n",
    "---"
   ]
  },
  {
   "cell_type": "code",
   "execution_count": null,
   "metadata": {
    "code_folding": [
     0
    ],
    "collapsed": false
   },
   "outputs": [],
   "source": [
    "# Calculation of Green's function for 3D case\n",
    "\n",
    "G=np.zeros(nt)                               # initialization G with zeros\n",
    "\n",
    "# Defining time\n",
    "for i in range (nt+1):\n",
    "    t=(np.arange(0,i)*dt)\n",
    "new_time=np.zeros(nt) \n",
    "new_time[0:nt]=t\n",
    "new_time=t[2]-t[1]\n",
    "\n",
    "r=sqrt((xs-xr)**2+(ys-yr)**2+(zs-zr)**2)     # defining the distance to receiver\n",
    "amp=1./(4*pi*(c**2)*r)                       # defining amplitudes\n",
    "t_arr=ts+(r/c)                               # time arrival\n",
    "i_arr=t_arr//new_time\n",
    "b=int(i_arr)\n",
    "G[b]= amp/dt\n",
    "\n",
    "# Plotting Green's function in 3D\n",
    "plt.plot(time, G)\n",
    "plt.title(\"Green's function in 3D\" )\n",
    "plt.xlabel(\"Time, s\")\n",
    "plt.ylabel(\"Amplitude\")\n",
    "plt.xlim((0, tmax))\n",
    "plt.grid()\n",
    "plt.show()\n",
    "\n",
    "# Convolution of Green's function with the 1st derivative of a Gaussian\n",
    "G3=np.convolve(G, source)[:len(G)]\n",
    "\n",
    "# Plotting convolved Green's function in 1D\n",
    "plt.plot(time-t0*dt, G3)\n",
    "plt.title('After convolution')\n",
    "plt.xlabel('Time, s')\n",
    "plt.ylabel('Amplitude')\n",
    "plt.xlim (0, tmax)\n",
    "plt.grid()\n",
    "plt.show()"
   ]
  }
 ],
 "metadata": {
  "anaconda-cloud": {},
  "kernelspec": {
   "display_name": "Python [conda root]",
   "language": "python",
   "name": "conda-root-py"
  },
  "language_info": {
   "codemirror_mode": {
    "name": "ipython",
    "version": 3
   },
   "file_extension": ".py",
   "mimetype": "text/x-python",
   "name": "python",
   "nbconvert_exporter": "python",
   "pygments_lexer": "ipython3",
   "version": "3.5.2"
  }
 },
 "nbformat": 4,
 "nbformat_minor": 0
}
