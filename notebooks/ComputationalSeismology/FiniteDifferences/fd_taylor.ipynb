{
 "cells": [
  {
   "cell_type": "markdown",
   "metadata": {},
   "source": [
    "<p style=\"width:35%;float:right;padding-left:50px\">\n",
    "<img src=http://www.geophysik.uni-muenchen.de/~igel/snap.png?raw=true>\n",
    "<span style=\"font-size:smaller\">\n",
    "from <span style=\"font-style: italic\">Nissen-Meyer et al. (2014). AxiSEM: broadband 3-D seismic wavefields in axisymmetric media. Solid Earth, 5(1), 425–445.</span>\n",
    "</span>\n",
    "</p>\n",
    "\n",
    "# Computational Seismology \n",
    "\n",
    "\n",
    "## *Finite Differences*\n",
    "### *Taylor Operators and Numerical Differentiation*\n",
    "\n",
    "<div style=\"height:40px\"></div>\n",
    "\n",
    "\n",
    "**Authors:** *Lion Krischer and Heiner Igel*\n",
    "\n",
    "This exercise covers the following aspects:\n",
    "\n",
    "* Use the Taylor series to calculate finite-difference operators\n",
    "* Learn how to define high-order finite-difference operators\n",
    "* Demonstrate the accuracy improvement by testing the operators on (arbitrary) functions\n",
    "\n",
    "\n",
    "<div style=\"clear:both\"></div>\n",
    "\n",
    "---"
   ]
  },
  {
   "cell_type": "markdown",
   "metadata": {},
   "source": [
    "## Basic Equations\n",
    "\n",
    "The Taylor expansion of $f(x + dx)$ around $x$ is defined as \n",
    "\n",
    "$$\n",
    "f(x+dx)=\\sum_{n=0}^\\infty \\frac{f^{(n)}(x)}{n!}dx^{n}  \n",
    "$$\n",
    "\n",
    "\n",
    "Finite-difference operators can be calculated by seeking weights (here: $a$, $b$, $c$) with which function values have to be multiplied to obtain an interpolation or a derivative. Example:\n",
    "\n",
    "$$\n",
    "\\begin{align}\n",
    "a ~ f(x + dx) & \\ = \\ a ~ \\left[ ~  f(x) +  f^{'} (x) dx +  \\frac{1}{2!}  f^{''} (x) dx^2   + \\dotsc  ~ \\right] \\\\\n",
    "b ~ f(x) & \\  = \\ b ~ \\left[ ~  f(x)  ~ \\right] \\\\\n",
    "c ~ f(x - dx) & \\ = \\ c ~ \\left[ ~  f(x) -  f^{'} (x) dx +  \\frac{1}{2!}  f^{''} (x) dx^2   - \\dotsc  ~ \\right]\n",
    "\\end{align}\n",
    "$$\n",
    "\n",
    "This can  be expressed in matrix form by comparing coefficients, here seeking a 2nd derivative\n",
    "\n",
    "$$\n",
    "\\begin{align}\n",
    "&a  ~~+~~            ~~~~b           &+~~  c & = & 0 \\\\\n",
    "&a  ~~\\phantom{+}~~ \\phantom{b}  &-~~  c & = & 0 \\\\\n",
    "&a  ~~\\phantom{+}~~ \\phantom{b}  &+~~  c & = & \\frac{2!}{\\mathrm{d}x^2}\n",
    "\\end{align}\n",
    "$$\n",
    "\n",
    "which leads to \n",
    "\n",
    "$$\n",
    "\\begin{pmatrix}\n",
    "  1 & 1 & 1 \\\\\n",
    "  1 & 0 & -1 \\\\\n",
    "  1 & 0 & 1\n",
    " \\end{pmatrix}\n",
    "\\begin{pmatrix}\n",
    "  a\\\\\n",
    " b \\\\\n",
    " c\n",
    " \\end{pmatrix}\n",
    " =\n",
    " \\begin{pmatrix}\n",
    "  0\\\\\n",
    " 0 \\\\\n",
    " \\frac{2!}{dx^2}\n",
    " \\end{pmatrix}\n",
    "$$\n",
    "\n",
    "and using matix inversion we obtain \n",
    "\n",
    "$$\n",
    "\\begin{pmatrix}\n",
    "a \\\\\n",
    "b\\\\\n",
    "c\n",
    "\\end{pmatrix}\n",
    "=\n",
    "\\begin{pmatrix}\n",
    "\\frac{1}{2 \\mathrm{d}x^2} \\\\\n",
    " - \\frac{2}{2 \\mathrm{d}x^2} \\\\\n",
    "  \\frac{1}{2 \\mathrm{d}x^2}\n",
    "\\end{pmatrix}\n",
    "$$\n",
    "\n",
    "This is the the well known 3-point operator for the 2nd derivative. This can easily be generalized to higher point operators and higher order derivatives. Below you will find a routine that initializes the system matrix and solves for the Taylor operator. "
   ]
  },
  {
   "cell_type": "markdown",
   "metadata": {},
   "source": [
    "---\n",
    "\n",
    "## Calculating the Coefficients\n",
    "\n",
    "The subroutine `central_difference_coefficients()` initalizes the system matrix and solves for the difference weights assuming $dx=1$. It calculates the centered differences using an arbitrary number of coefficients, also for higher derivatives. \n",
    "\n",
    "It returns a central finite difference stencil of order `points` for the `n`th derivative."
   ]
  },
  {
   "cell_type": "code",
   "execution_count": null,
   "metadata": {
    "collapsed": false
   },
   "outputs": [],
   "source": [
    "%matplotlib inline\n",
    "\n",
    "\n",
    "import math\n",
    "import numpy as np\n",
    "\n",
    "\n",
    "def central_difference_coefficients(points, n):\n",
    "    \"\"\"\n",
    "    Calculate the central finite difference stencil for an arbitrary number\n",
    "    of points and an arbitrary order derivative.\n",
    "    \n",
    "    :param points: The number of points for the stencil. Must be\n",
    "        an odd number.\n",
    "    :param n: The derivative order. Must be a positive number.\n",
    "    \"\"\"\n",
    "    if not points % 2:\n",
    "        raise ValueError(\"Only uneven number of points allowed.\")\n",
    "    if points <= n:\n",
    "        raise ValueError(\"The %ith derivative requires at least %i points\" %\n",
    "                         (n, n + 2))\n",
    "    a = points\n",
    "    m = np.zeros((a, a))\n",
    "    for i in range(a):\n",
    "        for j in range(a):\n",
    "            dx = j - a // 2\n",
    "            m[i][j] = dx ** i\n",
    "    \n",
    "    s = np.zeros(a)\n",
    "    s[n] = math.factorial(n)\n",
    "    return np.linalg.solve(m, s)"
   ]
  },
  {
   "cell_type": "markdown",
   "metadata": {},
   "source": [
    "---\n",
    "\n",
    "## (Almost) Christmas\n",
    "\n",
    "The coefficients quickly decay and yield diminishing returns for higher order stencils. Higher order derivatives naturally require longer stencils."
   ]
  },
  {
   "cell_type": "code",
   "execution_count": null,
   "metadata": {
    "collapsed": false
   },
   "outputs": [],
   "source": [
    "import matplotlib.pylab as plt\n",
    "plt.style.use('ggplot')\n",
    "\n",
    "plt.figure(figsize=(10, 8))\n",
    "\n",
    "for _i, points in enumerate(range(3, 20, 2)):\n",
    "    coeffs = central_difference_coefficients(points, 1)\n",
    "    numbers = np.linspace(- (points // 2), points // 2, points)\n",
    "    plt.plot(numbers, coeffs - _i * 1, color=\"#55A868\", lw=2.5)\n",
    "    plt.plot(numbers, coeffs - _i * 1, color=\"#F1DB40\", lw=0, marker=\"*\", markersize=15)\n",
    "    plt.hlines(-(_i * 1), -100, 100, color=\"0.5\", zorder=0)\n",
    "    \n",
    "plt.scatter([0], [1.5], marker=\"*\", s=1000, color=\"#C95241\")\n",
    "\n",
    "\n",
    "plt.yticks([])\n",
    "plt.vlines(0, *plt.ylim(), color=\"0.5\", zorder=0)\n",
    "plt.xlim(-(points // 2 + 1), points // 2 + 1)\n",
    "plt.ylim(-(_i + 2), 3)\n",
    "plt.title(\"FD Tree for the first derivative\")\n",
    "plt.show()"
   ]
  },
  {
   "cell_type": "code",
   "execution_count": null,
   "metadata": {
    "collapsed": false
   },
   "outputs": [],
   "source": [
    "import matplotlib.pylab as plt\n",
    "plt.style.use('ggplot')\n",
    "\n",
    "plt.figure(figsize=(10, 8))\n",
    "\n",
    "for _i, points in enumerate(range(3, 20, 2)):\n",
    "    coeffs = central_difference_coefficients(points, 2)\n",
    "    numbers = np.linspace(- (points // 2), points // 2, points)\n",
    "    plt.plot(numbers, coeffs - _i * 3, color=\"#55A868\", lw=2.5)\n",
    "    plt.plot(numbers, coeffs - _i * 3, color=\"#F1DB40\", lw=0, marker=\"*\", markersize=15)\n",
    "    plt.hlines(-(_i * 3), -100, 100, color=\"0.5\", zorder=0)\n",
    "    \n",
    "plt.scatter([0], [3.5], marker=\"*\", s=1000, color=\"#C95241\")\n",
    "\n",
    "\n",
    "plt.yticks([])\n",
    "plt.vlines(0, *plt.ylim(), color=\"0.5\", zorder=0)\n",
    "plt.xlim(-(points // 2 + 1), points // 2 + 1)\n",
    "plt.ylim(-(3 * _i + 2 * 3), 6)\n",
    "plt.title(\"FD Tree for the second derivative\")\n",
    "plt.show()"
   ]
  },
  {
   "cell_type": "code",
   "execution_count": null,
   "metadata": {
    "collapsed": false
   },
   "outputs": [],
   "source": [
    "import matplotlib.pylab as plt\n",
    "plt.style.use('ggplot')\n",
    "\n",
    "plt.figure(figsize=(10, 8))\n",
    "\n",
    "for _i, points in enumerate(range(5, 20, 2)):\n",
    "    coeffs = central_difference_coefficients(points, 3)\n",
    "    numbers = np.linspace(- (points // 2), points // 2, points)\n",
    "    plt.plot(numbers, coeffs - _i * 3, color=\"#55A868\", lw=2.5)\n",
    "    plt.plot(numbers, coeffs - _i * 3, color=\"#F1DB40\", lw=0, marker=\"*\", markersize=15)\n",
    "    plt.hlines(-(_i * 3), -100, 100, color=\"0.5\", zorder=0)\n",
    "    \n",
    "plt.scatter([0], [5.5], marker=\"*\", s=1000, color=\"#C95241\")\n",
    "\n",
    "\n",
    "plt.yticks([])\n",
    "plt.vlines(0, *plt.ylim(), color=\"0.5\", zorder=0)\n",
    "plt.xlim(-(points // 2 + 1), points // 2 + 1)\n",
    "plt.ylim(-(3 * _i + 2 * 3), 7)\n",
    "plt.title(\"FD Tree for the third derivative\")\n",
    "plt.show()"
   ]
  },
  {
   "cell_type": "markdown",
   "metadata": {},
   "source": [
    "---\n",
    "\n",
    "## Accuracy of centered finite differences\n",
    "\n",
    "Define a simple function, e.g. sine, cosine, gaussian, some polynomial, ..., differentiate it using the stencils returned from the above function and compare the result to the analytically calculated derivative."
   ]
  },
  {
   "cell_type": "code",
   "execution_count": null,
   "metadata": {
    "collapsed": false
   },
   "outputs": [],
   "source": [
    "sine_curve = np.sin(np.linspace(0, 10 * np.pi, 10000))\n",
    "dx = 10 * np.pi / 10000\n",
    "\n",
    "plt.figure(figsize=(12, 6))\n",
    "plt.subplot(211)\n",
    "plt.plot(sine_curve)\n",
    "\n",
    "stencil = central_difference_coefficients(5, 1)\n",
    "\n",
    "# Dummy application.\n",
    "cosine_curve = np.zeros(len(sine_curve))\n",
    "for _i in range(2, len(sine_curve) - 2):\n",
    "    cosine_curve[_i] = stencil[0] * sine_curve[_i - 2] + stencil[1] * sine_curve[_i - 1] + \\\n",
    "        stencil[2] * sine_curve[_i] + stencil[3] * sine_curve[_i + 1] + \\\n",
    "        stencil[4] * sine_curve[_i + 2]\n",
    "# Scale by dt.\n",
    "cosine_curve /= dx\n",
    "\n",
    "plt.subplot(212)\n",
    "plt.plot(cosine_curve[10:-10], label=\"Numerical derivative\", lw=2)\n",
    "plt.plot(np.cos(np.linspace(0, 10 * np.pi, 10000))[10:-10], ls=\"--\",\n",
    "         label=\"Analytic derivative\")\n",
    "plt.ylim(-1.1, 1.1)\n",
    "plt.xlim(0, 9980)\n",
    "plt.legend()\n",
    "plt.show()"
   ]
  },
  {
   "cell_type": "markdown",
   "metadata": {},
   "source": [
    "### Exercise 2\n",
    "\n",
    "This exercise aims to illustrate the accuracy gains by using longer finite difference stencils. To this end we define a helper function that takes an array of x values, an array of the function sampled at these values to differentiate, the analytical derivative, the length of the stencil, and the order of the derivative."
   ]
  },
  {
   "cell_type": "code",
   "execution_count": null,
   "metadata": {
    "collapsed": false
   },
   "outputs": [],
   "source": [
    "def diff_helper(x, data, analytical_diff, stencil_length, diff_order):\n",
    "    plt.close()\n",
    "    dx = x[1] - x[0]\n",
    "    \n",
    "    plt.figure(figsize=(12, 5))\n",
    "    plt.subplot(311)\n",
    "    # Be super conservative about edge effect.\n",
    "    buf = stencil_length // 2 + 1\n",
    "    x = x[buf:-buf]\n",
    "    plt.plot(x, data[buf:-buf], label=\"Function\")\n",
    "    plt.legend()\n",
    "\n",
    "    stencil = central_difference_coefficients(stencil_length, diff_order)\n",
    "\n",
    "    # Its effectively a convolution. So use a pre-built convolution function.\n",
    "    diff = np.convolve(data, stencil[::-1])\n",
    "    diff /= dx ** diff_order\n",
    "    diff = diff[stencil_length // 2: -(stencil_length // 2)]\n",
    "\n",
    "\n",
    "    plt.subplot(312)\n",
    "    plt.plot(x, diff[buf:-buf], label=\"Numerical derivative\", lw=2)\n",
    "    plt.plot(x, analytical_diff[buf:-buf], ls=\"--\", label=\"Analytic derivative\")\n",
    "    plt.legend()\n",
    "    \n",
    "    plt.subplot(313)\n",
    "    plt.plot(x, (diff - analytical_diff)[buf:-buf], label=\"Numerical - Analytical Derivative\")\n",
    "    plt.legend()\n",
    "    \n",
    "    plt.tight_layout()\n",
    "    plt.show()"
   ]
  },
  {
   "cell_type": "markdown",
   "metadata": {},
   "source": [
    "This shows a simple usage example. Play around a bit to get a feel how the accuracy improves with higher order operators. Make sure the function is not too oversampled, otherwise the effect is naturally not very strong. Polynomials of degree $N-1$ are exactly differentiated (first derivatives) by central differences of order $\\ge N$. The coefficients are derived from Taylor polynomials after all."
   ]
  },
  {
   "cell_type": "code",
   "execution_count": null,
   "metadata": {
    "collapsed": false
   },
   "outputs": [],
   "source": [
    "x = np.linspace(-2, 2, 150)\n",
    "p = np.poly1d([1, 0, -2, 1, 0])\n",
    "p_diff = np.poly1d([4, 0, -4, 1])\n",
    "diff_helper(x, p(x), p_diff(x), 3, 1)"
   ]
  },
  {
   "cell_type": "markdown",
   "metadata": {},
   "source": [
    "## Bonus: Theoretical Accuray"
   ]
  },
  {
   "cell_type": "code",
   "execution_count": null,
   "metadata": {
    "collapsed": false
   },
   "outputs": [],
   "source": [
    "def H(N, omega):\n",
    "    coeffs = central_difference_coefficients(N, 1)\n",
    "    HH = np.zeros_like(omega)\n",
    "    for _i, c in enumerate(coeffs):\n",
    "        HH += c * np.sin((-(N // 2) + _i) * omega)\n",
    "    return HH\n",
    "\n",
    "\n",
    "omega = np.linspace(0.0, np.pi, 100)\n",
    "\n",
    "f = omega / (2 * np.pi)\n",
    "\n",
    "plt.plot(f * 200, omega, color='0.2', ls=\"--\")\n",
    "for _i in range(3, 17, 2):\n",
    "    plt.plot(f * 200, H(_i, omega), label=\"%i points\" % _i)\n",
    "plt.legend(loc=\"upper left\")\n",
    "plt.xlabel(\"% Nyquist\")\n",
    "plt.ylabel(\"$|H(\\omega)|$\")\n",
    "plt.title(\"Amplitude Response of First Derivative Stencils\")\n",
    "plt.show()"
   ]
  },
  {
   "cell_type": "code",
   "execution_count": null,
   "metadata": {
    "collapsed": false
   },
   "outputs": [],
   "source": [
    "# Some tests against analytically calculated stencils. Not important for the exercises.\n",
    "\n",
    "# f'(x) 5-point-stencil.\n",
    "np.testing.assert_allclose(\n",
    "    central_difference_coefficients(5, 1),\n",
    "    np.array([-1.0 / 12.0, + 2.0 / 3.0, 0, -2.0 / 3.0, 1.0 / 12.0])[::-1],\n",
    "    rtol=1E-8, atol=1E-10)\n",
    "\n",
    "# f''(x) 5-point-stencil.\n",
    "np.testing.assert_allclose(\n",
    "    central_difference_coefficients(5, 2),\n",
    "    np.array([-1.0 / 12.0, + 16.0 / 12.0, -30.0 / 12.0, 16.0 / 12.0, -1.0 / 12.0])[::-1],\n",
    "    rtol=1E-8, atol=1E-10)\n",
    "\n",
    "# f'''(x) 5-point-stencil.\n",
    "np.testing.assert_allclose(\n",
    "    central_difference_coefficients(5, 3),\n",
    "    np.array([1.0 / 2.0, -1.0, 0, 1.0, -1.0 / 2.0])[::-1],\n",
    "    rtol=1E-8, atol=1E-10)\n",
    "\n",
    "# f''''(x) 5-point-stencil.\n",
    "np.testing.assert_allclose(\n",
    "    central_difference_coefficients(5, 4),\n",
    "    np.array([1.0, -4.0, 6.0, -4.0, 1.0])[::-1],\n",
    "    rtol=1E-8, atol=1E-10)"
   ]
  }
 ],
 "metadata": {
  "kernelspec": {
   "display_name": "Python 3",
   "language": "python",
   "name": "python3"
  },
  "language_info": {
   "codemirror_mode": {
    "name": "ipython",
    "version": 3
   },
   "file_extension": ".py",
   "mimetype": "text/x-python",
   "name": "python",
   "nbconvert_exporter": "python",
   "pygments_lexer": "ipython3",
   "version": "3.4.3"
  }
 },
 "nbformat": 4,
 "nbformat_minor": 0
}
