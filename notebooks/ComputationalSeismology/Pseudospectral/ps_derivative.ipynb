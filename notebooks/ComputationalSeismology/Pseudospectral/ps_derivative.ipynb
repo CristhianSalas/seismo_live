{
 "cells": [
  {
   "cell_type": "markdown",
   "metadata": {},
   "source": [
    "<p style=\"width:35%;float:right;padding-left:50px\">\n",
    "<img src=http://www.geophysik.uni-muenchen.de/~igel/snap.png?raw=true>\n",
    "<span style=\"font-size:smaller\">\n",
    "from <span style=\"font-style: italic\">Nissen-Meyer et al. (2014). AxiSEM: broadband 3-D seismic wavefields in axisymmetric media. Solid Earth, 5(1), 425–445.</span>\n",
    "</span>\n",
    "</p>\n",
    "\n",
    "# Computational Seismology \n",
    "\n",
    "\n",
    "## *Numerical derivative based on the Fourier Transform*\n",
    "\n",
    "\n",
    "**Authors:** *Fabian Lindner and Heiner Igel*\n",
    "\n",
    "### Exercise\n",
    "Calculate the numerical derivative based on the Fourier transform to show that the derivative is exact. Define an arbitrary function (e.g. a Gaussian) and initialize its analytical derivative on the same spatial grid. Calculate the numerical derivative and the difference to the analytical solution. Vary the wavenumber content of the analytical function. Does it make a difference? Why is the numerical result not entirely exact?\n",
    "\n",
    "<div style=\"clear:both\"></div>"
   ]
  },
  {
   "cell_type": "markdown",
   "metadata": {},
   "source": [
    "The derivative of a function $f(x)$ is calculated using the differentiation theorem of the Fourier transform:\n",
    "$$ \\frac{d}{dx} f(x) = IFT[ik \\ F(k)]$$\n",
    "with $IFT$, $i$, $k$ and $F(k)$ being the inverse Fourier transform, the imaginary unit, the wavenumber and the complex spectra of the function $f(x)$, respectively."
   ]
  },
  {
   "cell_type": "code",
   "execution_count": null,
   "metadata": {
    "collapsed": false
   },
   "outputs": [],
   "source": [
    "# This is a configuration step for the exercise. Please run it before calculating the derivative!\n",
    "import numpy as np\n",
    "import matplotlib.pyplot as plt\n",
    "\n",
    "# Show the plots in the Notebook.\n",
    "plt.switch_backend(\"nbagg\")"
   ]
  },
  {
   "cell_type": "code",
   "execution_count": null,
   "metadata": {
    "collapsed": false
   },
   "outputs": [],
   "source": [
    "# Initialize arbitrary test function on regular grid\n",
    "# Regular grid x between -1 and 1\n",
    "nx = 100\n",
    "# x=array between -1 nd 1 with 100 steps\n",
    "x, dx = np.linspace(-1, 1, nx, retstep=True, endpoint=False) \n",
    "\n",
    "# Function example: Gaussian\n",
    "# Width of Gaussian\n",
    "s = .2\n",
    "# Gaussian function (modify!)\n",
    "f = np.exp(-1/s**2 * x**2)\n",
    "# Analytical derivative\n",
    "df_ana = -2/s**2 * x * np.exp(-1/s**2 * x**2)\n",
    "\n",
    "# Calculate numerical derivative using Fourier PS method\n",
    "# Initialize k vector up to Nyquist wavenumber\n",
    "kmax = np.pi / dx\n",
    "dk = kmax / (nx/2)\n",
    "k = np.arange(float(nx))\n",
    "k[:nx/2] = k[:nx/2] * dk \n",
    "k[nx/2:] = k[:nx/2] - kmax\n",
    "\n",
    "# FFT and IFFT\n",
    "ff = np.fft.fft(f)\n",
    "ff = 1j * k * ff\n",
    "df_num = np.real(np.fft.ifft(ff))\n",
    "\n",
    "# Calculate error between analytical and numerical solution\n",
    "err = np.sum((df_num - df_ana)**2) / np.sum(df_ana**2) * 100\n",
    "\n",
    "# Plot analytical and numerical result\n",
    "plt.plot(x,f,'b',label='f(x)')\n",
    "plt.plot(x,df_num,'r',label='d/dx f(x) - numerical',alpha=0.65)\n",
    "plt.plot(x,df_ana,'r--',label='d/dx f(x) - analytical')\n",
    "plt.xlabel('x')\n",
    "plt.ylabel('f(x) and d/df f(x)')\n",
    "plt.title('Error: %s %%'%err)\n",
    "plt.legend(loc='upper right')\n",
    "plt.show()"
   ]
  }
 ],
 "metadata": {
  "kernelspec": {
   "display_name": "Python 3",
   "language": "python",
   "name": "python3"
  },
  "language_info": {
   "codemirror_mode": {
    "name": "ipython",
    "version": 3
   },
   "file_extension": ".py",
   "mimetype": "text/x-python",
   "name": "python",
   "nbconvert_exporter": "python",
   "pygments_lexer": "ipython3",
   "version": "3.4.3"
  }
 },
 "nbformat": 4,
 "nbformat_minor": 0
}
