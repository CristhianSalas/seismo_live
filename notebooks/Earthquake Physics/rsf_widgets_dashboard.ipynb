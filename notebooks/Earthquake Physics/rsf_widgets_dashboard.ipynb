{
 "cells": [
  {
   "cell_type": "markdown",
   "metadata": {
    "extensions": {
     "jupyter_dashboards": {
      "version": 1,
      "views": {
       "grid_default": {
        "col": 0,
        "height": 10,
        "hidden": true,
        "row": 28,
        "width": 12
       },
       "report_default": {}
      }
     }
    }
   },
   "source": [
    "<div style='background-image: url(\"../share/images/header.svg\") ; padding: 0px ; background-size: cover ; border-radius: 5px ; height: 250px'>\n",
    "    <div style=\"float: right ; margin: 50px ; padding: 20px ; background: rgba(255 , 255 , 255 , 0.7) ; width: 50% ; height: 150px\">\n",
    "        <div style=\"position: relative ; top: 50% ; transform: translatey(-50%)\">\n",
    "            <div style=\"font-size: xx-large ; font-weight: 900 ; color: rgba(0 , 0 , 0 , 0.8) ; line-height: 100%\">Rate and State Friction Toolkit</div>\n",
    "            <div style=\"font-size: large ; padding-top: 20px ; color: rgba(0 , 0 , 0 , 0.5)\">Dashboard</div>\n",
    "        </div>\n",
    "    </div>\n",
    "</div>"
   ]
  },
  {
   "cell_type": "markdown",
   "metadata": {
    "extensions": {
     "jupyter_dashboards": {
      "version": 1,
      "views": {
       "grid_default": {
        "col": 0,
        "height": 8,
        "hidden": true,
        "row": 28,
        "width": 12
       },
       "report_default": {}
      }
     }
    }
   },
   "source": [
    "Seismo-Live: http://seismo-live.org\n",
    "\n",
    "##### Authors:\n",
    "* John Leeman ([@jrleeman](https://github.com/jrleeman), http://www.johnrleeman.com/)\n",
    "\n",
    "---\n",
    "\n",
    "<div style=\"background-color: #FBC02D; padding: 10px\">\n",
    "This is a dashboard demoing the functionality of the [Rate and State Friction Toolkit](https://github.com/jrleeman/rsfmodel). <br><br>\n",
    "\n",
    "**Two steps to get it going: (1) \"Cell -> Run All\" (wait until it finishes) and (2) \"View -> Dashboard Preview\".**\n",
    "</div>"
   ]
  },
  {
   "cell_type": "code",
   "execution_count": null,
   "metadata": {
    "collapsed": false,
    "extensions": {
     "jupyter_dashboards": {
      "version": 1,
      "views": {
       "grid_default": {
        "hidden": true
       },
       "report_default": {
        "hidden": false
       }
      }
     }
    }
   },
   "outputs": [],
   "source": [
    "import matplotlib.pyplot as plt\n",
    "#from __future__ import print_function\n",
    "import ipywidgets as widgets\n",
    "from IPython.display import display, clear_output\n",
    "import numpy as np\n",
    "from rsfmodel import rsf, staterelations, plot\n",
    "\n",
    "%matplotlib notebook"
   ]
  },
  {
   "cell_type": "code",
   "execution_count": null,
   "metadata": {
    "collapsed": false,
    "extensions": {
     "jupyter_dashboards": {
      "version": 1,
      "views": {
       "grid_default": {
        "hidden": true
       },
       "report_default": {
        "hidden": false
       }
      }
     }
    }
   },
   "outputs": [],
   "source": [
    "def RunModel():\n",
    "    # Set model initial conditions\n",
    "    model.mu0 = 0.6 # Friction initial (at the reference velocity)\n",
    "    model.a = a_floatBox.value # Empirical coefficient for the direct effect\n",
    "    model.k = k_floatBox.value # Normalized System stiffness (friction/micron)\n",
    "\n",
    "    if sv1_dropdown.value == \"Aging Relation\":\n",
    "        state1 = staterelations.DieterichState()\n",
    "        state1.b = b1_floatBox.value  # Empirical coefficient for the evolution effect\n",
    "        state1.Dc = Dc1_floatBox.value  # Critical slip distance\n",
    "    \n",
    "    elif sv1_dropdown.value == \"Slowness Relation\":\n",
    "        state1 = staterelations.RuinaState()\n",
    "        state1.b = b1_floatBox.value  # Empirical coefficient for the evolution effect\n",
    "        state1.Dc = Dc1_floatBox.value  # Critical slip distance\n",
    "        \n",
    "    else:\n",
    "        # We shouldn't be here!\n",
    "        pass\n",
    "        \n",
    "    if sv2_dropdown.value == \"Aging Relation\":\n",
    "        state2 = staterelations.DieterichState()\n",
    "        state2.b = b1_floatBox.value  # Empirical coefficient for the evolution effect\n",
    "        state2.Dc = Dc1_floatBox.value  # Critical slip distance\n",
    "    \n",
    "    elif sv2_dropdown.value == \"Slowness Relation\":\n",
    "        state2 = staterelations.RuinaState()\n",
    "        state2.b = b1_floatBox.value  # Empirical coefficient for the evolution effect\n",
    "        state2.Dc = Dc1_floatBox.value  # Critical slip distance\n",
    "        \n",
    "    else:\n",
    "        # None\n",
    "        pass\n",
    "    \n",
    "    model.state_relations = [state1] # Which state relation we want to use\n",
    "    \n",
    "    if sv2_dropdown.value != \"None\":\n",
    "        model.state_relations.append(state2)\n",
    "\n",
    "    time, velocity = parse_sequence(step_sequence_string.value)\n",
    "\n",
    "    model.time = time\n",
    "    # Set the model load point velocity, must be same shape as model.model_time\n",
    "    model.loadpoint_velocity = velocity\n",
    "\n",
    "    model.v = velocity[0] # Initial slider velocity, generally is vlp(t=0)\n",
    "    model.vref = velocity[0] # Reference velocity, generally vlp(t=0)\n",
    "    \n",
    "    # Run the model!\n",
    "    model.solve()"
   ]
  },
  {
   "cell_type": "code",
   "execution_count": null,
   "metadata": {
    "collapsed": true,
    "extensions": {
     "jupyter_dashboards": {
      "version": 1,
      "views": {
       "grid_default": {
        "hidden": true
       },
       "report_default": {
        "hidden": false
       }
      }
     }
    }
   },
   "outputs": [],
   "source": [
    "def update_dispalcement_plot(model):\n",
    "    #clear_output(wait=True)\n",
    "    line_lp_mu.set_xdata(model.results.loadpoint_displacement)\n",
    "    line_lp_mu.set_ydata(model.results.friction)\n",
    "    \n",
    "    line_lp_vs.set_xdata(model.results.loadpoint_displacement)\n",
    "    line_lp_vs.set_ydata(model.results.slider_velocity)\n",
    "    \n",
    "    ax1.set_xlim(0, np.max(model.results.loadpoint_displacement))\n",
    "    \n",
    "    ax1.relim()\n",
    "    ax1.autoscale_view(False, False, True)\n",
    "    \n",
    "    ax1b.relim()\n",
    "    ax1b.autoscale_view(False, False, True)\n",
    "    fig_vars.canvas.draw()"
   ]
  },
  {
   "cell_type": "code",
   "execution_count": null,
   "metadata": {
    "collapsed": true,
    "extensions": {
     "jupyter_dashboards": {
      "version": 1,
      "views": {
       "grid_default": {
        "hidden": true
       },
       "report_default": {
        "hidden": false
       }
      }
     }
    }
   },
   "outputs": [],
   "source": [
    "def update_time_plot(model):\n",
    "    #clear_output(wait=True)\n",
    "\n",
    "    line_time_mu.set_xdata(model.results.time)\n",
    "    line_time_mu.set_ydata(model.results.friction)\n",
    "    \n",
    "    line_time_vs.set_xdata(model.results.time)\n",
    "    line_time_vs.set_ydata(model.results.slider_velocity)\n",
    "    \n",
    "    ax2.set_xlim(0, np.max(model.results.time))\n",
    "    \n",
    "    ax2.relim()\n",
    "    ax2.autoscale_view(False, False, True)\n",
    "    \n",
    "    ax2b.relim()\n",
    "    ax2b.autoscale_view(False, False, True)\n",
    "    fig_vars.canvas.draw()\n"
   ]
  },
  {
   "cell_type": "code",
   "execution_count": null,
   "metadata": {
    "collapsed": false,
    "extensions": {
     "jupyter_dashboards": {
      "version": 1,
      "views": {
       "grid_default": {
        "hidden": true
       },
       "report_default": {
        "hidden": false
       }
      }
     }
    }
   },
   "outputs": [],
   "source": [
    "def update_phase_plot(model):\n",
    "    ax3.cla()\n",
    "    phase_line, = ax3.plot([], [], color=tableau20[4], linewidth=2)\n",
    "\n",
    "    ax3.set_xlabel(r'ln$\\frac{V}{V_{ref}}$', fontsize=16, labelpad=20)\n",
    "    ax3.set_ylabel(r'$\\mu$', fontsize=16)\n",
    "    \n",
    "    v_ratio = np.log(model.results.slider_velocity/model.vref)\n",
    "    phase_line.set_xdata(v_ratio)\n",
    "    phase_line.set_ydata(model.results.friction)\n",
    "    \n",
    "    #xlims = ax2.get_xlims()#[np.min(v_ratio), np.max(v_ratio)]\n",
    "    #ylims = ax3.get_xlims()#[np.min(model.results.friction), np.max(model.results.friction)]\n",
    "    ax3.relim()\n",
    "    ax3.autoscale_view(False, True, True)\n",
    "    ylims = ax3.get_ylim()\n",
    "    xlims = ax3.get_xlim()\n",
    "    # Plot lines of constant a that are in the view\n",
    "    y_line = model.a * np.array(xlims)\n",
    "    for mu in np.arange(0, ylims[1]*2, 0.005):\n",
    "        y_line_plot = y_line + mu\n",
    "        if max(y_line_plot) > ylims[0]:\n",
    "            ax3.plot([xlims[0], xlims[1]], y_line_plot, color='k', linestyle='--')\n",
    "\n",
    "    # Plot a line of rate dependence \"Steady State Line\"\n",
    "    state_b_sum = 0\n",
    "    for state in model.state_relations:\n",
    "        state_b_sum += state.b\n",
    "        mu_rate_dependence = model.mu0 + (model.a - state_b_sum)*np.array(xlims)\n",
    "        ax3.plot(xlims, mu_rate_dependence, color='k', linestyle='--')\n",
    "\n",
    "    ax3.set_xlim(xlims)\n",
    "    ax3.set_ylim(ylims)\n",
    "    #ax3.relim()\n",
    "    #ax3.autoscale_view(False, True, True)\n",
    "    fig_phase.canvas.draw()"
   ]
  },
  {
   "cell_type": "code",
   "execution_count": null,
   "metadata": {
    "collapsed": true,
    "extensions": {
     "jupyter_dashboards": {
      "version": 1,
      "views": {
       "grid_default": {
        "hidden": true
       },
       "report_default": {
        "hidden": false
       }
      }
     }
    }
   },
   "outputs": [],
   "source": [
    "def stiffness_text_update(model):\n",
    "    kc = (model.state_relations[0].b - model.a)/model.state_relations[0].Dc\n",
    "    kc_label.value = \"k$_c$ [$\\mu$m$^{-1}$]: %f\" %kc\n",
    "    kappa_label.value = \"k/k$_c$: %f\" %(model.k/kc)"
   ]
  },
  {
   "cell_type": "code",
   "execution_count": null,
   "metadata": {
    "collapsed": false,
    "extensions": {
     "jupyter_dashboards": {
      "version": 1,
      "views": {
       "grid_default": {
        "hidden": true
       },
       "report_default": {
        "hidden": false
       }
      }
     }
    }
   },
   "outputs": [],
   "source": [
    "def parse_sequence(seqString):\n",
    "    steps = seqString.split(',')\n",
    "    if len(steps)%2 != 0:\n",
    "        # Odd number of steps is an error!\n",
    "        step_sequence_string.border_color = 'red'\n",
    "    else:\n",
    "        step_sequence_string.border_color = 'green'\n",
    "        steps = np.array(steps)\n",
    "        steps = steps.astype(int)\n",
    "        \n",
    "        steps = steps.reshape((len(steps)/2,2))\n",
    "    \n",
    "        dt = 0.01\n",
    "\n",
    "        if simType_buttons.value == 'Velocity-Displacement':\n",
    "            velocity = np.array([])\n",
    "            time = np.arange(0, np.sum(steps[:,1]/steps[:,0]), dt)\n",
    "            for step_velocity, step_displacement in steps:\n",
    "                step_time = step_displacement/step_velocity\n",
    "                velocity = np.hstack((velocity, np.ones(step_time/dt) * step_velocity))\n",
    "        \n",
    "        if simType_buttons.value == 'Velocity-Time':\n",
    "            velocity = np.array([])\n",
    "            time = np.arange(0, np.sum(steps[:,1]), dt)\n",
    "            for step_velocity, step_time in steps:\n",
    "                velocity = np.hstack((velocity, np.ones(step_time/dt) * step_velocity))\n",
    "        \n",
    "        return time, velocity    "
   ]
  },
  {
   "cell_type": "code",
   "execution_count": null,
   "metadata": {
    "collapsed": false,
    "extensions": {
     "jupyter_dashboards": {
      "version": 1,
      "views": {
       "grid_default": {
        "hidden": true
       },
       "report_default": {
        "hidden": false
       }
      }
     }
    }
   },
   "outputs": [],
   "source": [
    "def on_calculate_clicked(button):   \n",
    "    RunModel()\n",
    "    update_dispalcement_plot(model)\n",
    "    update_time_plot(model)\n",
    "    update_phase_plot(model)\n",
    "    stiffness_text_update(model)\n",
    "    clear_output(wait=True)\n"
   ]
  },
  {
   "cell_type": "code",
   "execution_count": null,
   "metadata": {
    "collapsed": false,
    "extensions": {
     "jupyter_dashboards": {
      "version": 1,
      "views": {
       "grid_default": {
        "hidden": true
       },
       "report_default": {
        "hidden": false
       }
      }
     }
    }
   },
   "outputs": [],
   "source": [
    "def on_reset(button):\n",
    "    a_floatBox.value = 0.005\n",
    "    b1_floatBox.value = 0.01\n",
    "    Dc1_floatBox.value = 10.\n",
    "    b2_floatBox.value = 0.01\n",
    "    Dc2_floatBox.value = 10.\n",
    "    k_floatBox.value = 1e-3\n",
    "    sv1_dropdown.value = \"Aging Relation\"\n",
    "    sv2_dropdown.value = \"None\"\n",
    "    RunModel()\n",
    "    update_plot()"
   ]
  },
  {
   "cell_type": "code",
   "execution_count": null,
   "metadata": {
    "collapsed": true,
    "extensions": {
     "jupyter_dashboards": {
      "version": 1,
      "views": {
       "grid_default": {
        "hidden": true
       },
       "report_default": {
        "hidden": false
       }
      }
     }
    }
   },
   "outputs": [],
   "source": [
    "# These are the \"Tableau 20\" colors as RGB.  \n",
    "tableau20 = [(31, 119, 180), (174, 199, 232), (255, 127, 14), (255, 187, 120),  \n",
    "             (44, 160, 44), (152, 223, 138), (214, 39, 40), (255, 152, 150),  \n",
    "             (148, 103, 189), (197, 176, 213), (140, 86, 75), (196, 156, 148),  \n",
    "             (227, 119, 194), (247, 182, 210), (127, 127, 127), (199, 199, 199),  \n",
    "             (188, 189, 34), (219, 219, 141), (23, 190, 207), (158, 218, 229)]  \n",
    "  \n",
    "# Scale the RGB values to the [0, 1] range, which is the format matplotlib accepts.  \n",
    "for i in range(len(tableau20)):  \n",
    "    r, g, b = tableau20[i]  \n",
    "    tableau20[i] = (r / 255., g / 255., b / 255.)  "
   ]
  },
  {
   "cell_type": "code",
   "execution_count": null,
   "metadata": {
    "collapsed": false,
    "extensions": {
     "jupyter_dashboards": {
      "version": 1,
      "views": {
       "grid_default": {
        "hidden": true
       },
       "report_default": {
        "hidden": false
       }
      }
     }
    }
   },
   "outputs": [],
   "source": [
    "model = rsf.Model()"
   ]
  },
  {
   "cell_type": "code",
   "execution_count": null,
   "metadata": {
    "collapsed": false,
    "extensions": {
     "jupyter_dashboards": {
      "version": 1,
      "views": {
       "grid_default": {
        "hidden": true
       },
       "report_default": {
        "hidden": false
       }
      }
     }
    }
   },
   "outputs": [],
   "source": [
    "a_floatBox = widgets.BoundedFloatText(\n",
    "    value=0.005,\n",
    "    min=0,\n",
    "    max=1,\n",
    "    description='a:',\n",
    ")\n",
    "\n",
    "b1_floatBox = widgets.BoundedFloatText(\n",
    "    value=0.01,\n",
    "    min=0,\n",
    "    max=1,\n",
    "    description='b:',\n",
    ")\n",
    "\n",
    "b2_floatBox = widgets.BoundedFloatText(\n",
    "    value=0.01,\n",
    "    min=0,\n",
    "    max=1,\n",
    "    description='b:',\n",
    ")\n",
    "\n",
    "Dc1_floatBox = widgets.BoundedFloatText(\n",
    "    value=10.0,\n",
    "    min=0,\n",
    "    max=30000.0,\n",
    "    description='Dc:',\n",
    ")\n",
    "\n",
    "Dc2_floatBox = widgets.BoundedFloatText(\n",
    "    value=10.0,\n",
    "    min=0,\n",
    "    max=30000.0,\n",
    "    description='Dc:',\n",
    ")\n",
    "\n",
    "k_floatBox = widgets.BoundedFloatText(\n",
    "    value=1e-3,\n",
    "    min=0.,\n",
    "    max=100,\n",
    "    description='k:',\n",
    ")\n",
    "\n",
    "sv1_dropdown = widgets.Dropdown(\n",
    "    options=['Aging Relation', 'Slowness Relation'],\n",
    "    value='Aging Relation',\n",
    "    decription='State Relation:')\n",
    "\n",
    "sv2_dropdown = widgets.Dropdown(\n",
    "    options=['None', 'Aging Relation', 'Slowness Relation'],\n",
    "    value='None',\n",
    "    decription='State Relation:')\n",
    "\n",
    "simType_buttons = widgets.ToggleButtons(\n",
    "    description='Simulation Type',\n",
    "    options=['Velocity-Displacement', 'Velocity-Time'])\n",
    "\n",
    "calculate_button = widgets.Button(\n",
    "    description=\"Calculate\")\n",
    "\n",
    "reset_button = widgets.Button(\n",
    "    description=\"Reset\")\n",
    "\n",
    "step_sequence_string = widgets.Text(\n",
    "    description='Sequence:',\n",
    "    value='1,10,10,200',\n",
    ")"
   ]
  },
  {
   "cell_type": "code",
   "execution_count": null,
   "metadata": {
    "collapsed": false,
    "extensions": {
     "jupyter_dashboards": {
      "version": 1,
      "views": {
       "grid_default": {
        "hidden": true
       },
       "report_default": {
        "hidden": false
       }
      }
     }
    }
   },
   "outputs": [],
   "source": [
    "sv1_label = widgets.Latex(\n",
    "    value=\"First State Variable\",\n",
    ")\n",
    "\n",
    "sv2_label = widgets.Latex(\n",
    "    value=\"Second State Variable\",\n",
    ")\n",
    "\n",
    "kc_label = widgets.Latex(\n",
    "    value=\"k$_c$ [$\\mu$m$^{-1}$]: \"\n",
    ")\n",
    "\n",
    "kappa_label = widgets.Latex(\n",
    "    value=\"k/k$_c$: \"\n",
    ")"
   ]
  },
  {
   "cell_type": "code",
   "execution_count": null,
   "metadata": {
    "collapsed": false,
    "extensions": {
     "jupyter_dashboards": {
      "version": 1,
      "views": {
       "grid_default": {
        "col": 0,
        "height": 4,
        "hidden": false,
        "row": 0,
        "width": 4
       },
       "report_default": {
        "hidden": false
       }
      }
     }
    }
   },
   "outputs": [],
   "source": [
    "display(kc_label, kappa_label)"
   ]
  },
  {
   "cell_type": "code",
   "execution_count": null,
   "metadata": {
    "collapsed": false,
    "extensions": {
     "jupyter_dashboards": {
      "version": 1,
      "views": {
       "grid_default": {
        "col": 4,
        "height": 4,
        "hidden": false,
        "row": 0,
        "width": 4
       },
       "report_default": {
        "hidden": false
       }
      }
     }
    }
   },
   "outputs": [],
   "source": [
    "display(calculate_button, reset_button)"
   ]
  },
  {
   "cell_type": "code",
   "execution_count": null,
   "metadata": {
    "collapsed": false,
    "extensions": {
     "jupyter_dashboards": {
      "version": 1,
      "views": {
       "grid_default": {
        "hidden": true
       },
       "report_default": {
        "hidden": false
       }
      }
     }
    }
   },
   "outputs": [],
   "source": [
    "def state_of_sv2():\n",
    "    if sv2_dropdown.value == \"None\":\n",
    "        b2_floatBox.disabled =  True\n",
    "        Dc2_floatBox.disabled =  True\n",
    "    else:\n",
    "        b2_floatBox.disabled = False\n",
    "        Dc2_floatBox.disabled = False"
   ]
  },
  {
   "cell_type": "code",
   "execution_count": null,
   "metadata": {
    "collapsed": false,
    "extensions": {
     "jupyter_dashboards": {
      "version": 1,
      "views": {
       "grid_default": {
        "hidden": true
       },
       "report_default": {
        "hidden": false
       }
      }
     }
    }
   },
   "outputs": [],
   "source": [
    "calculate_button.on_click(on_calculate_clicked)\n",
    "reset_button.on_click(on_reset)\n",
    "sv2_dropdown.on_trait_change(state_of_sv2)\n",
    "b2_floatBox.disabled = True\n",
    "Dc2_floatBox.disabled = True"
   ]
  },
  {
   "cell_type": "code",
   "execution_count": null,
   "metadata": {
    "collapsed": false,
    "extensions": {
     "jupyter_dashboards": {
      "version": 1,
      "views": {
       "grid_default": {
        "col": 8,
        "height": 4,
        "hidden": false,
        "row": 0,
        "width": 4
       },
       "report_default": {
        "hidden": false
       }
      }
     }
    }
   },
   "outputs": [],
   "source": [
    "display(k_floatBox, a_floatBox)"
   ]
  },
  {
   "cell_type": "code",
   "execution_count": null,
   "metadata": {
    "collapsed": true,
    "extensions": {
     "jupyter_dashboards": {
      "version": 1,
      "views": {
       "grid_default": {
        "col": 0,
        "height": 5,
        "hidden": false,
        "row": 4,
        "width": 4
       },
       "report_default": {
        "hidden": false
       }
      }
     }
    }
   },
   "outputs": [],
   "source": [
    "display(sv1_label, sv1_dropdown, b1_floatBox, Dc1_floatBox)"
   ]
  },
  {
   "cell_type": "code",
   "execution_count": null,
   "metadata": {
    "collapsed": false,
    "extensions": {
     "jupyter_dashboards": {
      "version": 1,
      "views": {
       "grid_default": {
        "col": 4,
        "height": 5,
        "hidden": false,
        "row": 4,
        "width": 4
       },
       "report_default": {
        "hidden": false
       }
      }
     }
    }
   },
   "outputs": [],
   "source": [
    "display(sv2_label, sv2_dropdown, b2_floatBox, Dc2_floatBox)"
   ]
  },
  {
   "cell_type": "code",
   "execution_count": null,
   "metadata": {
    "collapsed": false,
    "extensions": {
     "jupyter_dashboards": {
      "version": 1,
      "views": {
       "grid_default": {
        "col": 8,
        "height": 4,
        "hidden": false,
        "row": 4,
        "width": 4
       },
       "report_default": {
        "hidden": false
       }
      }
     }
    }
   },
   "outputs": [],
   "source": [
    "display(simType_buttons)\n",
    "display(step_sequence_string)"
   ]
  },
  {
   "cell_type": "code",
   "execution_count": null,
   "metadata": {
    "collapsed": false,
    "extensions": {
     "jupyter_dashboards": {
      "version": 1,
      "views": {
       "grid_default": {
        "col": 0,
        "height": 18,
        "hidden": false,
        "row": 9,
        "width": 5
       },
       "report_default": {
        "hidden": false
       }
      }
     }
    }
   },
   "outputs": [],
   "source": [
    "# Setup figure and axes\n",
    "# Generally plots is ~1.33x width to height (10,7.5 or 12,9)\n",
    "fig_phase = plt.figure(figsize=(5,5))\n",
    "ax3 = plt.subplot(111)\n",
    "\n",
    "phase_line, = ax3.plot([], [], color=tableau20[4], linewidth=2)\n",
    "\n",
    "ax3.set_xlabel(r'ln$\\frac{V}{V_{ref}}$', fontsize=16, labelpad=20)\n",
    "ax3.set_ylabel(r'$\\mu$', fontsize=16)"
   ]
  },
  {
   "cell_type": "code",
   "execution_count": null,
   "metadata": {
    "collapsed": false,
    "extensions": {
     "jupyter_dashboards": {
      "version": 1,
      "views": {
       "grid_default": {
        "col": 5,
        "height": 19,
        "hidden": false,
        "row": 9,
        "width": 7
       },
       "report_default": {
        "hidden": false
       }
      }
     }
    }
   },
   "outputs": [],
   "source": [
    "# Setup figure and axes\n",
    "# Generally plots is ~1.33x width to height (10,7.5 or 12,9)\n",
    "fig_vars = plt.figure()\n",
    "ax1 = plt.subplot(211)\n",
    "ax1b = ax1.twinx()\n",
    "\n",
    "ax2 = plt.subplot(212)\n",
    "ax2b = ax2.twinx()\n",
    "\n",
    "# Set labels and tick sizes\n",
    "ax1.set_xlabel(r'Load Point Displacement')\n",
    "ax1.set_ylabel(r'Friction')\n",
    "ax1b.set_ylabel(r'Slider Velocity')\n",
    "\n",
    "# Plotting\n",
    "line_lp_mu, = ax1.plot([], [], color=tableau20[0], linewidth=2)\n",
    "line_lp_vs, = ax1b.plot([], [], color=tableau20[2], linewidth=1, linestyle='--')\n",
    "\n",
    "ax1.grid()\n",
    "\n",
    "# Set labels and tick sizes\n",
    "ax2.set_xlabel(r'Time')\n",
    "ax2.set_ylabel(r'Friction')\n",
    "ax2b.set_ylabel(r'Slider Velocity')\n",
    "\n",
    "# Plotting\n",
    "line_time_mu, = ax2.plot([], [], color=tableau20[0], linewidth=2)\n",
    "line_time_vs, = ax2b.plot([], [], color=tableau20[2], linewidth=1, linestyle='--')\n",
    "\n",
    "ax2.grid()\n",
    "\n",
    "plt.subplots_adjust(wspace=0.4, hspace=0.4)"
   ]
  },
  {
   "cell_type": "code",
   "execution_count": null,
   "metadata": {
    "collapsed": false,
    "extensions": {
     "jupyter_dashboards": {
      "version": 1,
      "views": {
       "grid_default": {
        "hidden": true
       },
       "report_default": {
        "hidden": false
       }
      }
     }
    }
   },
   "outputs": [],
   "source": [
    "# Run the defaults to have some output showing when we load\n",
    "on_calculate_clicked(calculate_button)"
   ]
  }
 ],
 "metadata": {
  "extensions": {
   "jupyter_dashboards": {
    "activeView": "grid_default",
    "version": 1,
    "views": {
     "grid_default": {
      "cellMargin": 10,
      "defaultCellHeight": 20,
      "maxColumns": 12,
      "name": "grid",
      "type": "grid"
     },
     "report_default": {
      "name": "report",
      "type": "report"
     }
    }
   }
  },
  "kernelspec": {
   "display_name": "Python 3",
   "language": "python",
   "name": "python3"
  },
  "language_info": {
   "codemirror_mode": {
    "name": "ipython",
    "version": 3
   },
   "file_extension": ".py",
   "mimetype": "text/x-python",
   "name": "python",
   "nbconvert_exporter": "python",
   "pygments_lexer": "ipython3",
   "version": "3.5.1"
  }
 },
 "nbformat": 4,
 "nbformat_minor": 0
}
