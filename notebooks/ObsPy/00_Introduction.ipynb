{
 "cells": [
  {
   "cell_type": "markdown",
   "metadata": {},
   "source": [
    "<div style=\"background-image:url(images/meschede-seismic-waves.png); padding: 10px 30px 20px 30px; background-size:cover; background-opacity:50%; border-radius:5px; background-position: 0px -200px\">\n",
    "<p style=\"float:right; margin-top:20px; padding: 20px 60px 0px 10px; background:rgba(255,255,255,0.75); border-radius:10px;\">\n",
    "<img width=\"400px\" src=images/obspy_logo_full_524x179px.png?raw=true>\n",
    "</p>\n",
    "\n",
    "<h1 style=\"color:#BBB; padding-bottom: 80px\">ObsPy Tutorial</h1>\n",
    "\n",
    "<h2 style=\"color:#FFF; padding-bottom: 30px\">Introduction/Index</h2>\n",
    "\n",
    "</div>"
   ]
  },
  {
   "cell_type": "markdown",
   "metadata": {},
   "source": [
    "These notebooks are intended to be used to teach ObsPy for a 1.5 - 2 day ObsPy workshop. Please feel free to explore them by yourself."
   ]
  },
  {
   "cell_type": "markdown",
   "metadata": {},
   "source": [
    "## Timetable/Contents\n",
    "\n",
    "1. **[Python Crash Course](01_Python_Crash_Course.ipynb)**  [30 Minutes]  -  *[[Solution]](01_Python_Crash_Course-with_solutions.ipynb)*\n",
    "2. **[Introduction to File Formats and read/write in ObsPy](02_File_Formats.ipynb)** [45 Minutes]  -  *[[Solution]](02_File_Formats-with_solutions.ipynb)*\n",
    "3. **[Handling Time](03_UTCDateTime.ipynb)** [35 Minutes]  -  *[[Solution]](03_UTCDateTime-with_solutions.ipynb)*\n",
    "4. **[Handling Waveform Data: Stream & Trace Classes](04_waveform_data.ipynb)** [45 Minutes]  -  *[[Solution]](04_waveform_data-with_solutions.ipynb)*\n",
    "5. **[Handling Station Metainformation](05_Station_metainformation.ipynb)** [15 Minutes]  -  *[[Solution]](05_Station_metainformation-with_solutions.ipynb)*\n",
    "6. **[Handling Event Metainformation](06_Event_metadata.ipynb)** [25 Minutes]  -  *[[Solution]](06_Event_metadata-with_solutions.ipynb)*\n",
    "7. **[Retrieving Data from Data Centers](07_FDSN.ipynb)** [30 Minutes]  -  *[[Solution]](07_FDSN-with_solutions.ipynb)*\n",
    "8. **[Basic Downloading/Processing Exercise](08_Basic_Processing_Exercise.ipynb)** [60 - x Minutes]  -  *[[Solution]](08_Basic_Processing_Exercise-with_solutions.ipynb)*\n",
    "9. **[Exercise: Event Detection and Magnitude Estimation in an Aftershock Series](09_Exercise__2008_MtCarmel_Earthquake_and_Aftershock_Series.ipynb)** [open end]  -  *[[Solution]](09_Exercise__2008_MtCarmel_Earthquake_and_Aftershock_Series-with_solutions.ipynb)*"
   ]
  },
  {
   "cell_type": "markdown",
   "metadata": {},
   "source": [
    "## Acknowledgements\n",
    "\n",
    "Background picture at the very top is from Matthias Meschede."
   ]
  }
 ],
 "metadata": {
  "kernelspec": {
   "display_name": "Python 3",
   "language": "python",
   "name": "python3"
  },
  "language_info": {
   "codemirror_mode": {
    "name": "ipython",
    "version": 3
   },
   "file_extension": ".py",
   "mimetype": "text/x-python",
   "name": "python",
   "nbconvert_exporter": "python",
   "pygments_lexer": "ipython3",
   "version": "3.4.3"
  }
 },
 "nbformat": 4,
 "nbformat_minor": 0
}
