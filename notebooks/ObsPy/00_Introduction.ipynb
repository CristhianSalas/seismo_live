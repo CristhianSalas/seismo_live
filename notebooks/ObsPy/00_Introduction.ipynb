{
 "cells": [
  {
   "cell_type": "markdown",
   "metadata": {},
   "source": [
    "<div style=\"background-image:url(images/meschede-seismic-waves.png); padding: 10px 30px 20px 30px; background-size:cover; background-opacity:50%; border-radius:5px\">\n",
    "<p style=\"float:right; margin-top:20px; padding: 20px 20px 0px 20px; background:rgba(255,255,255,0.6); border-radius:10px;\">\n",
    "<img width=\"400px\" src=images/obspy_logo_full_524x179px.png?raw=true>\n",
    "</p>\n",
    "\n",
    "<h1 style=\"color:#999\">ObsPy Workshop</h1>\n",
    "<h5 style=\"color:#FFF\">Münster, July 7th & 8th</h5>\n",
    "\n",
    "<h3 style=\"color:#EEE\">Data Acquisition and Processing with ObsPy</h3>\n",
    "\n",
    "<h2 style=\"color:#FFF\">Introduction/Index</h2>\n",
    "</div>"
   ]
  },
  {
   "cell_type": "markdown",
   "metadata": {},
   "source": [
    "Today will introduce you to Python and data processing with ObsPy."
   ]
  },
  {
   "cell_type": "markdown",
   "metadata": {},
   "source": [
    "## Timetable/Contents\n",
    "\n",
    "1. **[Python Crash Course](01_Python_Crash_Course.ipynb)**  [30 Minutes]  -  *[[Solution]](01_Python_Crash_Course-with_solutions.ipynb)*\n",
    "2. **[Introduction to File Formats and read/write in ObsPy](02_File_Formats.ipynb)** [45 Minutes]  -  *[[Solution]](02_File_Formats-with_solutions.ipynb)*\n",
    "3. **[Handling Time](03_UTCDateTime.ipynb)** [35 Minutes]  -  *[[Solution]](03_UTCDateTime-with_solutions.ipynb)*\n",
    "4. **[Handling Waveform Data: Stream & Trace Classes](04_waveform_data.ipynb)** [45 Minutes]  -  *[[Solution]](04_waveform_data-with_solutions.ipynb)*\n",
    "5. **[Handling Station Metainformation](05_Station_metainformation.ipynb)** [15 Minutes]  -  *[[Solution]](05_Station_metainformation-with_solutions.ipynb)*\n",
    "6. **[Handling Event Metainformation](06_Event_metadata.ipynb)** [25 Minutes]  -  *[[Solution]](06_Event_metadata-with_solutions.ipynb)*\n",
    "7. **[Retrieving Data from Data Centers](07_FDSN.ipynb)** [30 Minutes]  -  *[[Solution]](07_FDSN-with_solutions.ipynb)*\n",
    "8. **[Basic Downloading/Processing Exercise](08_Basic_Processing_Exercise.ipynb)** [60 - x Minutes]  -  *[[Solution]](08_Basic_Processing_Exercise-with_solutions.ipynb)*\n",
    "9. **[Exercise: Event Detection and Magnitude Estimation in an Aftershock Series](09_Exercise__2008_MtCarmel_Earthquake_and_Aftershock_Series.ipynb)** [open end]  -  *[[Solution]](09_Exercise__2008_MtCarmel_Earthquake_and_Aftershock_Series-with_solutions.ipynb)*"
   ]
  },
  {
   "cell_type": "markdown",
   "metadata": {},
   "source": [
    "## Acknowledgements\n",
    "\n",
    "Background picture at the very top is from Matthias Meschede."
   ]
  }
 ],
 "metadata": {
  "kernelspec": {
   "display_name": "Python 2",
   "language": "python",
   "name": "python2"
  },
  "language_info": {
   "codemirror_mode": {
    "name": "ipython",
    "version": 2
   },
   "file_extension": ".py",
   "mimetype": "text/x-python",
   "name": "python",
   "nbconvert_exporter": "python",
   "pygments_lexer": "ipython2",
   "version": "2.7.10"
  }
 },
 "nbformat": 4,
 "nbformat_minor": 0
}
